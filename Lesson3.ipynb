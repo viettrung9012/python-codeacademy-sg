{
 "cells": [
  {
   "cell_type": "markdown",
   "metadata": {},
   "source": [
    "## Lesson 3 Overview\n",
    "\n",
    "1. List and dictionary\n",
    "2. Loop\n",
    "  - `for` loop\n",
    "  - `while` loop\n",
    "3. Function"
   ]
  },
  {
   "cell_type": "markdown",
   "metadata": {},
   "source": [
    "## Let's load today's lesson!\n",
    "\n",
    "### Open Azure Notebooks library \n",
    "\n",
    "Go to https://notebooks.azure.com -> Sign in if needed -> Select **python-codeacademy-sg**\n",
    "\n",
    "### Update lesson file to latest version\n",
    "\n",
    "Select **New** -> **From URL** -> input https://raw.githubusercontent.com/viettrung9012/python-codeacademy-sg/master/Lesson3.ipynb (URL is available in **Lesson3.ipynb**) -> Click outside input then select **Upload** (overwrite if needed)\n",
    "\n",
    "### Open Jupyter lab\n",
    "\n",
    "From your browser's bookmark or **Run** -> Change browser URL path from **/nb/tree** to **/nb/lab**\n",
    "\n",
    "Select **Lesson3.ipynb**"
   ]
  },
  {
   "cell_type": "markdown",
   "metadata": {},
   "source": [
    "# List and dictionary\n",
    "List and dictionary are two data structures that we will learn today.\n",
    "\n",
    "### What is a data structure?\n",
    "A data structure is a particular way of organizing and storing data in a computer so that it can be accessed and modified efficiently. (Wikipedia)\n",
    "\n",
    "### List\n",
    "List (or array in some programming languages) is a group of item in specific order, it is similar to our daily checklist, task list, etc.\n",
    "In Python, a list is created like this:"
   ]
  },
  {
   "cell_type": "code",
   "execution_count": null,
   "metadata": {},
   "outputs": [],
   "source": [
    "shopping_list = ['Apple', 'Banana', 'Orange'] # Items are placed in a pair of square brackets and separated by comma\n",
    "\n",
    "print(shopping_list)"
   ]
  },
  {
   "cell_type": "markdown",
   "metadata": {},
   "source": [
    "To retrieve an item from the list, we can access it by index:"
   ]
  },
  {
   "cell_type": "code",
   "execution_count": null,
   "metadata": {},
   "outputs": [],
   "source": [
    "first_item = shopping_list[0] # list[index]\n",
    "\n",
    "print(first_item)\n",
    "print(shopping_list[0])"
   ]
  },
  {
   "cell_type": "markdown",
   "metadata": {},
   "source": [
    "*Why first item is indexed 0?* Most of the programming languages will take 0 as the first index and not 1. So 1st item is at index 0, 2nd item is at index 1, 3rd item is at index 2, so on and so forth."
   ]
  },
  {
   "cell_type": "markdown",
   "metadata": {},
   "source": [
    "#### List items and nested list\n",
    "A Python list can contain items of multiple types, and can contain even other lists. For example:"
   ]
  },
  {
   "cell_type": "code",
   "execution_count": null,
   "metadata": {},
   "outputs": [],
   "source": [
    "alice_details = [  # it is totally fine to spread list creation into multiple lines for ease of reading\n",
    "    'Alice', # name\n",
    "    12, # age\n",
    "    ['reading', 'singing'] # hobbies\n",
    "]\n",
    "\n",
    "print(alice_details[2]) # access the hobby list\n",
    "print(alice_details[2][0]) # access the hobby at index 0 of hobby list"
   ]
  },
  {
   "cell_type": "markdown",
   "metadata": {},
   "source": [
    "To access item in nested list, first access the list, then access the item (like the 2nd print above). \n",
    "A nicer way to print Alice's first hobby:\n",
    "```Python\n",
    "alice_hobbies = alice_details[2] # assign alice_hobbies\n",
    "print(alice_hobbies[0])\n",
    "```\n",
    "\n",
    "Nested list is not limited to one level, we can have a nested list in another nested list in another nested list in... \n",
    "\n",
    "However, this is not recommended because it is very hard to manage.\n",
    "\n",
    "Actually list is not a good data structure to store Alice's details, it is just there as an example. Imagine when we change the order of name and age, then our previous access would all be wrong!\n",
    "\n",
    "```Python\n",
    "bob_details = [\n",
    "    12,\n",
    "    ['dancing', 'drawing'],\n",
    "    'Bob'\n",
    "]\n",
    "\n",
    "# alice_details[0] is Alice's name but bob_details[0] is Bob's age, we are already confusing ourselves!\n",
    "```\n",
    "\n",
    "This is the reason why we have another data structure: dictionary (or map in some other programming languages)"
   ]
  },
  {
   "cell_type": "markdown",
   "metadata": {},
   "source": [
    "### Dictionary\n",
    "\n",
    "A collection of (key, value) pair. Examples of dictionary in our daily life: English-Chinese dictionary, Expedia Dictionary, etc. In Python, we create a dictionary like this:"
   ]
  },
  {
   "cell_type": "code",
   "execution_count": null,
   "metadata": {},
   "outputs": [],
   "source": [
    "alice_details = { # (key, value) pair are placed in curly brackets, and separated by comma\n",
    "    'name': 'Alice', # key and value are separated from each other by colon, we usually note this as key : value\n",
    "    'age': 12,\n",
    "    'hobbies': ['reading', 'singing']\n",
    "}\n",
    "\n",
    "print(alice_details['name']) # dictionary[key] - We can access the value through the key"
   ]
  },
  {
   "cell_type": "markdown",
   "metadata": {},
   "source": [
    "Just like list, a dictionary's value of the (key, value) pair can belong to different types, even a list or another dictionary. A key can be different types from String too, but it is discouraged to do so because it makes accessing the dictionary much harder. *Even number?* Yes, if we use numbers as keys maybe we should use a list instead.\n",
    "\n",
    "Let's practice with list and dictionary:"
   ]
  },
  {
   "cell_type": "code",
   "execution_count": null,
   "metadata": {},
   "outputs": [],
   "source": [
    "peter_details = {\n",
    "    'name': 'Peter',\n",
    "    'age': 12\n",
    "}\n",
    "\n",
    "peter_classmates = [\n",
    "    {\n",
    "        'name': 'Alice',\n",
    "        'age': 12,\n",
    "        'hobbies': ['reading', 'singing']\n",
    "    },\n",
    "    {\n",
    "        'name': 'Bob',\n",
    "        'age': 12,\n",
    "        'hobbies': ['dancing', 'drawing'],\n",
    "        'test_scores': {\n",
    "            'math': 100,\n",
    "            'english': 99\n",
    "        }\n",
    "    }\n",
    "]\n",
    "\n",
    "\n",
    "# print Peter's name\n",
    "peter_details['name']\n",
    "\n",
    "# print Peter's age\n",
    "\n",
    "\n",
    "# print Peter's first classmate first hobby\n",
    "\n",
    "\n",
    "# print Bob's English score\n",
    "\n",
    "\n"
   ]
  },
  {
   "cell_type": "markdown",
   "metadata": {},
   "source": [
    "# Loop\n",
    "### What is a loop?\n",
    "A loop is a sequence of statements which is specified once but which may be carried out several times in succession (Wikipedia).\n",
    "\n",
    "In other words, instead of giving the computer instructions like below\n",
    "> Hi computer, please print 'Hello, World!'\n",
    "\n",
    "> please print another 'Hello, World!'\n",
    "\n",
    "> ... (continue to ask the computer to print)\n",
    "\n",
    "> print the 10th 'Hello, world!'\n",
    "\n",
    "we want to give this computer this short instruction only\n",
    "> Hi computer, please print 'Hello, World!' 10 times\n",
    "\n",
    "\n",
    "In code form:"
   ]
  },
  {
   "cell_type": "code",
   "execution_count": null,
   "metadata": {},
   "outputs": [],
   "source": [
    "# Without loop\n",
    "print('Hello, World!')\n",
    "print('Hello, World!')\n",
    "print('Hello, World!')\n",
    "print('Hello, World!')\n",
    "print('Hello, World!')\n",
    "print('Hello, World!')\n",
    "print('Hello, World!')\n",
    "print('Hello, World!')\n",
    "print('Hello, World!')\n",
    "print('Hello, World!')"
   ]
  },
  {
   "cell_type": "code",
   "execution_count": null,
   "metadata": {},
   "outputs": [],
   "source": [
    "# With loop\n",
    "for i in range(0, 10): # Can you guess what does 'range' function do?\n",
    "    print('Hello, World!')"
   ]
  },
  {
   "cell_type": "markdown",
   "metadata": {},
   "source": [
    "It is clear that using loop make the code look shorter and easier to read. We will continue with 2 different types of loop (`for` loop and `while` loop) in the next session.\n",
    "\n",
    "## `for` loop\n",
    "\n",
    "Here is the general syntax of `for` loop:\n",
    "\n",
    "```Python\n",
    "for item in list:    # the loop starts with for and take in a list, and will assign variable 'item' to each value in the list one by one\n",
    "    do something...  # put your set of instructions here. They should be indented so that Python recognize that they belong to the loop\n",
    "```\n",
    "\n",
    "Examples:"
   ]
  },
  {
   "cell_type": "code",
   "execution_count": null,
   "metadata": {},
   "outputs": [],
   "source": [
    "list_of_countries = ['Singapore', 'Malaysia', 'Indonesia', 'The Philippines', 'India'] # Create a list of 5 countries\n",
    "\n",
    "for country in list_of_countries: # assign country to each item in list\n",
    "    print('START')\n",
    "    print('Currently the loop is at: ' + country)\n",
    "    print('END')"
   ]
  },
  {
   "cell_type": "code",
   "execution_count": null,
   "metadata": {},
   "outputs": [],
   "source": [
    "for num in range(0, 5): # range(start, end) function returns a sequence of integer from start to (end - 1) (do not include end)\n",
    "    print(num)"
   ]
  },
  {
   "cell_type": "code",
   "execution_count": null,
   "metadata": {},
   "outputs": [],
   "source": [
    "for num in [11, 63, 34, 50, 47, 51, 23]:\n",
    "    if num < 50:                   # we can have any type of statement inside the loop, including conditional and even another loop! \n",
    "        print('50 > ' + str(num))  # take note of the indentation, this means 'if' is inside 'for', and 'print' is inside 'if'\n",
    "                                   # 'str' function is used be cause we cannot concat string to an integer, \n",
    "                                   # so we convert the integer to string using 'str'"
   ]
  },
  {
   "cell_type": "markdown",
   "metadata": {},
   "source": [
    "Let's practice with `for` loop:"
   ]
  },
  {
   "cell_type": "code",
   "execution_count": null,
   "metadata": {},
   "outputs": [],
   "source": [
    "# This is the list of steps recorded daily from one random participant (G) in our Biggest Loser Challenge\n",
    "daily_steps = [11980,10437,17616,24586,16136,13700,39812,9195,12855,11309,23606,11848,6120,6254,8754,6469,8849,9911,7709,534,13465,7341,11230,7878,11029,8790,9006,21942]\n",
    "\n",
    "# Write a 'for' loop to print the steps on the day that G does not reach 10000\n"
   ]
  },
  {
   "cell_type": "markdown",
   "metadata": {},
   "source": [
    "## `while` loop\n",
    "Here is the general syntax of `while` loop:\n",
    "```Python\n",
    "while condition:    # if condition is TRUE, executes the loop's inner statements. Otherwise, escape the loop\n",
    "    do something... # need to involve in actions that change condition, or we will encounter an INFINITE loop!\n",
    "```\n",
    "Example:"
   ]
  },
  {
   "cell_type": "code",
   "execution_count": null,
   "metadata": {},
   "outputs": [],
   "source": [
    "list_of_countries = ['Singapore', 'Malaysia', 'Indonesia', 'The Philippines', 'India'] # Create a list of 5 countries\n",
    "\n",
    "# We will print the first 3 contries in the list\n",
    "index = 0                                     # start index of list is 0\n",
    "while index < 3:                              # condition, if index < 3 then we print the country at that index\n",
    "    print('Current index is: ' + str(index))  # print current value of index\n",
    "    print(list_of_countries[index]) \n",
    "    index = index + 1                         # increase the index by one. This is important! \n",
    "                                              # Without the increment index remains 0, and the loop will never stop\n",
    "    print('Next index is: ' + str(index))"
   ]
  },
  {
   "cell_type": "markdown",
   "metadata": {},
   "source": [
    "*Note*: We can do the same with for loop:"
   ]
  },
  {
   "cell_type": "code",
   "execution_count": null,
   "metadata": {},
   "outputs": [],
   "source": [
    "for index in range(0,3):\n",
    "    print(list_of_countries[index])"
   ]
  },
  {
   "cell_type": "markdown",
   "metadata": {},
   "source": [
    "We usually use `for` loop when we know how many times to run the loop, and `while` loop when we only know the terminate condition but not the number of times. Nevertheless, keep in mind that very often we can convert from a `for` loop to a `while` loop and vice versa easily. The choice of loop is mostly decided by the programmer's preference and the readability of code.\n",
    "\n",
    "Here is another example:"
   ]
  },
  {
   "cell_type": "code",
   "execution_count": null,
   "metadata": {},
   "outputs": [],
   "source": [
    "# Let's print the first number divisible by 13 between 30 and 60 (inclusive)\n",
    "for num in range(30, 61):  # loop through the list\n",
    "    if num % 13 == 0:      # % is modulo, num % 13 == 0 means num divides 13 has 0 as remainder\n",
    "        print(num)    \n",
    "        break              # break is used to break out of the loop, we don't want to print all number greater than 50\n",
    "                           # but only the first one, so we break out after the first time the condition is met\n",
    "        \n"
   ]
  },
  {
   "cell_type": "code",
   "execution_count": null,
   "metadata": {},
   "outputs": [],
   "source": [
    "num = 30\n",
    "while num <= 60 and num % 13 != 0:   # num % 13 != 0 means num divides 13 has non-zero remainder\n",
    "    num = num + 1\n",
    "    \n",
    "print(num)  # this should prove that the loop stops at the correct value"
   ]
  },
  {
   "cell_type": "markdown",
   "metadata": {},
   "source": [
    "Let's do a practice with `while` loop:"
   ]
  },
  {
   "cell_type": "code",
   "execution_count": null,
   "metadata": {},
   "outputs": [],
   "source": [
    "# use while loop to print numbers divisible by 6 between 1 and 40 (each number is on one line)"
   ]
  },
  {
   "cell_type": "markdown",
   "metadata": {},
   "source": [
    "# Function\n",
    "\n",
    "### What is a function?\n",
    "In computer programming, a function (subroutine) is a sequence of program instructions that perform a specific task, packaged as a unit. This unit can then be used in programs wherever that particular task should be performed. (Wikipedia)\n",
    "\n",
    "When I attend a Bluejeans meeting, here is what I usually do:\n",
    "> Open Bluejeans\n",
    "\n",
    "> Enter the meeting ID - 484448444488 \n",
    "\n",
    "> Participate in the meeting\n",
    "\n",
    "> Leave the meeting at the end\n",
    "\n",
    "> Enter the rating\n",
    "\n",
    "These steps are usually similar for my other Bluejeans meetings, except for the 2nd step I might enter a different meeting ID\n",
    "\n",
    "In coding we can define a function like this:\n",
    "```Python\n",
    "def join_bluejeans_meeting(meeting_id):\n",
    "    ...                               # omitted to save space\n",
    "    enter_meeting_id using meeting_id # making use of the meeting_id in parameter\n",
    "    ...                               # omitted to save space\n",
    "    \n",
    "# if I want to attend meeting 484448444488, I can do\n",
    "join_bluejeans_meeting(484448444488)\n",
    "\n",
    "# if I want to join another meeting 5111111111, I can do\n",
    "join_bluejeans_meeting(5111111111)\n",
    "```\n",
    "\n",
    "Function is basically a group of commands to the computer, and it can come with parameters to modify the behaviour of these commands.\n",
    "\n",
    "General syntax to define a function:\n",
    "```Python\n",
    "def functionname( parameters ):\n",
    "    operations inside the function # take note of the indentation, operations and return indented belong to this function\n",
    "                                   # we can put any kind of command inside the function, e.g. variable assignment, conditional, loop, etc.\n",
    "    return some_value # if some_value is missing, function returns None. If return statement is missing, function also returns None\n",
    "```\n",
    "\n",
    "Syntax to execute a function:\n",
    "```Python\n",
    "functionname( parameters ) # we need substitute parameters with their real values\n",
    "```\n",
    "\n",
    "Here are a few examples:"
   ]
  },
  {
   "cell_type": "code",
   "execution_count": null,
   "metadata": {},
   "outputs": [],
   "source": [
    "# Function to return sum of 3 numbers\n",
    "def sum_of_three(num1, num2, num3): # we define the function here\n",
    "    sum = num1 + num2 + num3\n",
    "    return sum\n",
    "\n",
    "sum_of_2_4_5 = sum_of_three(2, 4, 5) # we execute the function here, replace the parameters with the actual values,\n",
    "                                     # then we assign sum_of_2_4_5 to the value returned by sum_of_three function\n",
    "print(sum_of_2_4_5)\n",
    "\n",
    "print(sum_of_three(10, 20, 30)) # we can also print directly the value returned by sum_of_three function"
   ]
  },
  {
   "cell_type": "code",
   "execution_count": null,
   "metadata": {},
   "outputs": [],
   "source": [
    "# Parameters are optional\n",
    "def hello():\n",
    "    print('hello')"
   ]
  },
  {
   "cell_type": "code",
   "execution_count": null,
   "metadata": {},
   "outputs": [],
   "source": [
    "# We need to execute the function by calling it\n",
    "def hello():\n",
    "    print('hello')\n",
    "\n",
    "hello()"
   ]
  },
  {
   "cell_type": "markdown",
   "metadata": {},
   "source": [
    "Let's do some practices with function:"
   ]
  },
  {
   "cell_type": "code",
   "execution_count": null,
   "metadata": {},
   "outputs": [],
   "source": [
    "# define a cube function that take in one number in parameter, return the cubic value of the number\n",
    "\n",
    "# Start here\n",
    "\n",
    "# Don't touch the code below\n",
    "print(cube(3)) # make this work without error and print 9"
   ]
  },
  {
   "cell_type": "code",
   "execution_count": null,
   "metadata": {},
   "outputs": [],
   "source": [
    "# define a get_lower_than_10000 function that take in a list, print the numbers from the list smaller than 10000. Hint: function can contain loop\n",
    "\n",
    "# Start here\n",
    "\n",
    "\n",
    "# Don't touch the code below\n",
    "daily_steps = [11980,10437,17616,24586,16136,13700,39812,9195,12855,11309,23606,11848,6120,6254,8754,6469,8849,9911,7709,534,13465,7341,11230,7878,11029,8790,9006,21942]\n",
    "print_lower_than_10000(daily_steps) # make this work without error"
   ]
  },
  {
   "cell_type": "markdown",
   "metadata": {},
   "source": [
    "# Challenges (optional)"
   ]
  },
  {
   "cell_type": "code",
   "execution_count": null,
   "metadata": {},
   "outputs": [],
   "source": [
    "# Easy mode\n",
    "daily_steps = [11980,10437,17616,24586,16136,13700,39812,9195,12855,11309,23606,11848,6120,6254,8754,6469,8849,9911,7709,534,13465,7341,11230,7878,11029,8790,9006,21942]\n",
    "\n",
    "# Find to total number of steps completed by this participant\n",
    "# Start here\n",
    "\n",
    "\n",
    "# Find the average daily steps of this participant. Hint: len(list) will return the number of items inside the list (the length of the list)\n",
    "# Start here"
   ]
  },
  {
   "cell_type": "code",
   "execution_count": null,
   "metadata": {},
   "outputs": [],
   "source": [
    "# Challenging mode\n",
    "p1_daily_steps = [11980,10437,17616,24586,16136,13700,39812,9195,12855,11309,23606,11848,6120,6254,8754,6469,8849,9911,7709,534,13465,7341,11230,7878,11029,8790,9006,21942]\n",
    "p2_daily_steps = [22935,13399,25098,29581,26121,12805,16073,15124,16011,6198,10026,10909,14468,4828,11207,7133,14977,13746,12267,9364,1061,6075,11188,11472,10150,13023,6769,10165]\n",
    "p3_daily_steps = [16272,17231,20595,17047,15216,42590,10969,20687,19170,12703,17192,12865,10960,9105,16019,12646,10042,13353,16072,41673,13425,11262,7801,6666,5276,11353,5344,6282]\n",
    "p4_daily_steps = [10233,16120,12897,24680,13060,20489,10230,25565,10029,12696,13938,9475,5297,8573,9857,15341,9482,11649,5804,11080,6245,7611,8401,5596,6491,7637,7610,9130]\n",
    "p5_daily_steps = [14126,14110,10111,20440,21416,16989,25371,21539,23045,20043,20328,12058,12004,3301,9789,6671,7893,9589,10459,5091,6329,6784,6543,17984,13588,11077,7856,20897]\n",
    "\n",
    "team = { # a dictionary mapping initial to list of daily steps\n",
    "    'G': p1_daily_steps, \n",
    "    'I': p2_daily_steps, \n",
    "    'P': p3_daily_steps, \n",
    "    'T': p4_daily_steps, \n",
    "    'D': p5_daily_steps\n",
    "}\n",
    "\n",
    "# Print the total steps of each person in this format: 'Total steps of G is 100000000'\n",
    "# Hint 1: create a function to get total steps per person. \n",
    "# Hint 2: If a dictionary is called dict, dict.keys() will return the list of keys in that dictionary.\n",
    "\n",
    "# Start here\n",
    "\n",
    "\n",
    "\n",
    "\n",
    "# Print the total steps of the team\n",
    "\n",
    "# Start here\n",
    "\n",
    "\n",
    "\n",
    "\n",
    "# Print the initial of the person with total steps of more than 400k\n",
    "\n",
    "# Start here\n",
    "\n",
    "\n",
    "\n",
    "\n",
    "\n",
    "\n"
   ]
  }
 ],
 "metadata": {
  "kernelspec": {
   "display_name": "Python 3",
   "language": "python",
   "name": "python3"
  },
  "language_info": {
   "codemirror_mode": {
    "name": "ipython",
    "version": 3
   },
   "file_extension": ".py",
   "mimetype": "text/x-python",
   "name": "python",
   "nbconvert_exporter": "python",
   "pygments_lexer": "ipython3",
   "version": "3.6.3"
  }
 },
 "nbformat": 4,
 "nbformat_minor": 2
}
