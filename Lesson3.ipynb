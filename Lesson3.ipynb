{
 "cells": [
  {
   "cell_type": "markdown",
   "metadata": {},
   "source": [
    "## Lesson 3 Overview\n",
    "\n",
    "1. Loop\n",
    "  - `for` loop\n",
    "  - `while` loop\n",
    "2. Function"
   ]
  },
  {
   "cell_type": "markdown",
   "metadata": {},
   "source": [
    "## Let's load today's lesson!\n",
    "\n",
    "### Open Azure Notebooks library \n",
    "\n",
    "Go to https://notebooks.azure.com -> Sign in if needed -> Select **python-codeacademy-sg**\n",
    "\n",
    "### Update lesson file to latest version\n",
    "\n",
    "Select **New** -> **From URL** -> input https://raw.githubusercontent.com/viettrung9012/python-codeacademy-sg/master/Lesson3.ipynb (URL is available in **Lesson3.ipynb**) -> Click outside input then select **Upload** (overwrite if needed)\n",
    "\n",
    "### Open Jupyter lab\n",
    "\n",
    "From your browser's bookmark or **Run** -> Change browser URL path from **/nb/tree** to **/nb/lab**\n",
    "\n",
    "Select **Lesson3.ipynb**"
   ]
  },
  {
   "cell_type": "markdown",
   "metadata": {},
   "source": [
    "# Loop\n",
    "### What is a loop?\n",
    "A loop is a sequence of statements which is specified once but which may be carried out several times in succession (Wikipedia).\n",
    "\n",
    "In other words, instead of giving the computer instructions like below\n",
    "> Hi computer, please print 'Hello, World!'\n",
    "\n",
    "> please print another 'Hello, World!'\n",
    "\n",
    "> ... (continue to ask the computer to print)\n",
    "\n",
    "> print the 10th 'Hello, world!'\n",
    "\n",
    "we want to give this computer this short instruction only\n",
    "> Hi computer, please print 'Hello, World!' 10 times\n",
    "\n",
    "\n",
    "In code form:"
   ]
  },
  {
   "cell_type": "code",
   "execution_count": null,
   "metadata": {},
   "outputs": [],
   "source": [
    "# Without loop\n",
    "print('Hello, World!')\n",
    "print('Hello, World!')\n",
    "print('Hello, World!')\n",
    "print('Hello, World!')\n",
    "print('Hello, World!')\n",
    "print('Hello, World!')\n",
    "print('Hello, World!')\n",
    "print('Hello, World!')\n",
    "print('Hello, World!')\n",
    "print('Hello, World!')"
   ]
  },
  {
   "cell_type": "code",
   "execution_count": null,
   "metadata": {},
   "outputs": [],
   "source": [
    "# With loop\n",
    "for i in range(0, 10):  # Can you guess what does 'range' function do?\n",
    "    print('Hello, World!')"
   ]
  },
  {
   "cell_type": "markdown",
   "metadata": {},
   "source": [
    "It is clear that using loop make the code look shorter and easier to read. We will continue with 2 different types of loop (`for` loop and `while` loop) in the next session.\n",
    "\n",
    "## `for` loop\n",
    "\n",
    "Here is the general syntax of `for` loop:\n",
    "\n",
    "```Python\n",
    "for item in list:    # the loop starts with for and take in a list, and will assign variable 'item' with each value in the list one by one\n",
    "    do something...  # put your set of instructions here. They should be indented so that Python recognize that they belong to the loop\n",
    "```\n",
    "\n",
    "Examples:"
   ]
  },
  {
   "cell_type": "code",
   "execution_count": null,
   "metadata": {},
   "outputs": [],
   "source": [
    "list_of_countries = ['Singapore', 'Malaysia', 'Indonesia', 'The Philippines', 'India']  # Create a list of 5 countries\n",
    "\n",
    "for country in list_of_countries:  # assign country to each item in list\n",
    "    print('START')\n",
    "    print('Currently the loop is at: ' + country)\n",
    "    print('END')"
   ]
  },
  {
   "cell_type": "code",
   "execution_count": null,
   "metadata": {},
   "outputs": [],
   "source": [
    "for num in range(0, 5):  # range(start, end) function returns a sequence of integer from start to (end - 1) (do not include end)\n",
    "    print(num)"
   ]
  },
  {
   "cell_type": "code",
   "execution_count": null,
   "metadata": {},
   "outputs": [],
   "source": [
    "for num in [11, 63, 34, 50, 47, 51, 23]:\n",
    "    if num < 50:                   # we can have any type of statement inside the loop, including conditional and even another loop! \n",
    "        print('50 > ' + str(num))  # take note of the indentation, this means 'if' is inside 'for', and 'print' is inside 'if'\n",
    "                                   # 'str' function is used because we cannot concat string to an integer, \n",
    "                                   # so we convert the integer to string using 'str'"
   ]
  },
  {
   "cell_type": "markdown",
   "metadata": {},
   "source": [
    "### `enumerate()` function\n",
    "So far we have been using `for` loop to access each item in the list. How do we know the index (or position) of the item that we are currently at while looping? This is the reason Python provides us `enumerate()` function.\n",
    "\n",
    "`enumerate()` function is a built-in function of Python. It allows us to loop over a list and have an index attached. (More details about enumerate here: http://book.pythontips.com/en/latest/enumerate.html)\n",
    "\n",
    "Below is the demo for retrieving the index of the item that we are currently at:\n",
    "\n",
    "#### Without enumerate, we need to use an external variable to keep the index.\n"
   ]
  },
  {
   "cell_type": "code",
   "execution_count": null,
   "metadata": {},
   "outputs": [],
   "source": [
    "list_of_countries = ['Singapore', 'Malaysia', 'Indonesia', 'The Philippines', 'India']\n",
    "\n",
    "index = 0                                                        # list starts from index 0\n",
    "for country in list_of_countries:\n",
    "    print('Country ' + country + ' is at index ' + str(index))\n",
    "    index = index + 1                                            # increase index by 1 as we move to the next cycle of the loop"
   ]
  },
  {
   "cell_type": "markdown",
   "metadata": {},
   "source": [
    "#### With enumerate, we can loop with both index and item"
   ]
  },
  {
   "cell_type": "code",
   "execution_count": null,
   "metadata": {},
   "outputs": [],
   "source": [
    "list_of_countries = ['Singapore', 'Malaysia', 'Indonesia', 'The Philippines', 'India']\n",
    "\n",
    "for index, country in enumerate(list_of_countries):              # note the order here, index is before item\n",
    "    print('Country ' + country + ' is at index ' + str(index))"
   ]
  },
  {
   "cell_type": "markdown",
   "metadata": {},
   "source": [
    "`enumerate()` function makes our code shorter and allows us to loop without an external variable"
   ]
  },
  {
   "cell_type": "markdown",
   "metadata": {},
   "source": [
    "Let's practice with `for` loop:"
   ]
  },
  {
   "cell_type": "code",
   "execution_count": null,
   "metadata": {},
   "outputs": [],
   "source": [
    "# This is the list of steps recorded daily from one random participant (G) in our Biggest Loser Challenge\n",
    "daily_steps_list = [11980, 10437, 17616, 24586, 16136, 13700, 39812, 9195, 12855, 11309, 23606, 11848, 6120, 6254, 8754, 6469, 8849, 9911, 7709, 534, 13465, 7341, 11230, 7878, 11029, 8790, 9006, 21942]\n",
    "\n",
    "# Write a 'for' loop to print the steps and index of the days that G does not reach 10000\n"
   ]
  },
  {
   "cell_type": "markdown",
   "metadata": {},
   "source": [
    "## `while` loop\n",
    "Here is the general syntax of `while` loop:\n",
    "```Python\n",
    "while condition:    # if condition is TRUE, executes the loop's inner statements. Otherwise, escape the loop\n",
    "    do something... # need to involve in actions that change condition, or we will encounter an INFINITE loop!\n",
    "```\n",
    "Example:"
   ]
  },
  {
   "cell_type": "code",
   "execution_count": null,
   "metadata": {},
   "outputs": [],
   "source": [
    "list_of_countries = ['Singapore', 'Malaysia', 'Indonesia', 'The Philippines', 'India']  # Create a list of 5 countries\n",
    "\n",
    "# We will print the first 3 countries in the list\n",
    "index = 0                                     \n",
    "while index < 3:                              # condition, if index < 3 then we print the country at that index\n",
    "    print('Current index is: ' + str(index))  # print current value of index\n",
    "    print(list_of_countries[index]) \n",
    "    index = index + 1                         # increase the index by one. This is important! \n",
    "                                              # Without the increment index remains 0, and the loop will never stop\n",
    "    print('Next index is: ' + str(index))"
   ]
  },
  {
   "cell_type": "markdown",
   "metadata": {},
   "source": [
    "*Note*: We can do the same with for loop:"
   ]
  },
  {
   "cell_type": "code",
   "execution_count": null,
   "metadata": {},
   "outputs": [],
   "source": [
    "for index in range(0, 3):\n",
    "    print(list_of_countries[index])"
   ]
  },
  {
   "cell_type": "markdown",
   "metadata": {},
   "source": [
    "We usually use `for` loop when we know how many times to run the loop, and `while` loop when we only know the terminate condition but not the number of times. Nevertheless, keep in mind that very often we can convert from a `for` loop to a `while` loop and vice versa easily. The choice of loop is mostly decided by the programmer's preference and the readability of code.\n",
    "\n",
    "Here is another example:"
   ]
  },
  {
   "cell_type": "code",
   "execution_count": null,
   "metadata": {},
   "outputs": [],
   "source": [
    "# Let's print the first number divisible by 13 between 30 and 60 (inclusive)\n",
    "for num in range(30, 61):  # loop through the list\n",
    "    if num % 13 == 0:      # % is modulo, num % 13 == 0 means num divides 13 has 0 as remainder\n",
    "        print(num)    \n",
    "        break              # break is used to break out of the loop, we don't want to print all numbers divisible by 13\n",
    "                           # but only the first one, so we break out after the first time the condition is met\n"
   ]
  },
  {
   "cell_type": "code",
   "execution_count": null,
   "metadata": {},
   "outputs": [],
   "source": [
    "num = 30\n",
    "while num <= 60 and num % 13 != 0:   # num % 13 != 0 means num divides 13 has non-zero remainder\n",
    "    num = num + 1\n",
    "    \n",
    "print(num)  # this should prove that the loop stops at the correct value"
   ]
  },
  {
   "cell_type": "markdown",
   "metadata": {},
   "source": [
    "Let's do a practice with `while` loop:"
   ]
  },
  {
   "cell_type": "code",
   "execution_count": null,
   "metadata": {},
   "outputs": [],
   "source": [
    "# use while loop to print numbers divisible by 6 between 1 and 40 (each number is on one line)\n"
   ]
  },
  {
   "cell_type": "markdown",
   "metadata": {},
   "source": [
    "# Function\n",
    "\n",
    "### What is a function?\n",
    "In computer programming, a function (subroutine) is a sequence of program instructions that perform a specific task, packaged as a unit. This unit can then be used in programs wherever that particular task should be performed. (Wikipedia)\n",
    "\n",
    "When I attend a Bluejeans meeting, here is what I usually do:\n",
    "> Open Bluejeans\n",
    "\n",
    "> Enter the meeting ID - 484448444488 \n",
    "\n",
    "> Participate in the meeting\n",
    "\n",
    "> Leave the meeting at the end\n",
    "\n",
    "> Enter the rating\n",
    "\n",
    "These steps are usually similar for my other Bluejeans meetings, except for the 2nd step I might enter a different meeting ID\n",
    "\n",
    "In coding we can define a function like this:\n",
    "```Python\n",
    "def join_bluejeans_meeting(meeting_id):\n",
    "    ...                               # omitted to save space\n",
    "    enter_meeting_id using meeting_id # making use of the meeting_id in parameter\n",
    "    ...                               # omitted to save space\n",
    "    \n",
    "# if I want to attend meeting 484448444488, I can do\n",
    "join_bluejeans_meeting(484448444488)\n",
    "\n",
    "# if I want to join another meeting 5111111111, I can do\n",
    "join_bluejeans_meeting(5111111111)\n",
    "```\n",
    "\n",
    "Function is basically a group of commands to the computer, and it can come with parameters to modify the behaviour of these commands.\n",
    "\n",
    "General syntax to define a function:\n",
    "```Python\n",
    "def functionname( parameters ):\n",
    "    operations inside the function # take note of the indentation, operations and return indented belong to this function\n",
    "                                   # we can put any kind of command inside the function, e.g. variable assignment, conditional, loop, etc.\n",
    "    return some_value # if some_value is missing, function returns None. If return statement is missing, function also returns None\n",
    "```\n",
    "\n",
    "Syntax to execute a function:\n",
    "```Python\n",
    "functionname( parameters ) # we need substitute parameters with their real values\n",
    "```\n",
    "\n",
    "Here are a few examples:"
   ]
  },
  {
   "cell_type": "code",
   "execution_count": null,
   "metadata": {},
   "outputs": [],
   "source": [
    "# Function to return sum of 3 numbers\n",
    "def sum_of_three(num1, num2, num3):  # we define the function here\n",
    "    sum = num1 + num2 + num3\n",
    "    return sum\n",
    "\n",
    "\n",
    "sum_of_2_4_5 = sum_of_three(2, 4, 5)  # we execute the function here, replace the parameters with the actual values,\n",
    "                                      # then we assign sum_of_2_4_5 to the value returned by sum_of_three function\n",
    "print(sum_of_2_4_5)\n",
    "\n",
    "print(sum_of_three(10, 20, 30))  # we can also print directly the value returned by sum_of_three function"
   ]
  },
  {
   "cell_type": "code",
   "execution_count": null,
   "metadata": {},
   "outputs": [],
   "source": [
    "# Parameters are optional\n",
    "def hello():\n",
    "    print('hello')"
   ]
  },
  {
   "cell_type": "code",
   "execution_count": null,
   "metadata": {},
   "outputs": [],
   "source": [
    "# We need to execute the function by calling it\n",
    "def hello():\n",
    "    print('hello')\n",
    "\n",
    "\n",
    "hello()"
   ]
  },
  {
   "cell_type": "markdown",
   "metadata": {},
   "source": [
    "Let's do some practices with function:"
   ]
  },
  {
   "cell_type": "code",
   "execution_count": null,
   "metadata": {},
   "outputs": [],
   "source": [
    "# define a cube function that take in one number in parameter, return the cubic value of the number\n",
    "\n",
    "# Start here\n",
    "\n",
    "\n",
    "\n",
    "# Don't touch the code below\n",
    "print(cube(3))  # make this work without error and print 27"
   ]
  },
  {
   "cell_type": "code",
   "execution_count": null,
   "metadata": {},
   "outputs": [],
   "source": [
    "# define a print_lower_than_10000 function that take in a list, print the numbers from the list smaller than 10000. Hint: function can contain loop\n",
    "\n",
    "# Start here\n",
    "\n",
    "\n",
    "\n",
    "# Don't touch the code below\n",
    "daily_steps = [11980, 10437, 17616, 24586, 16136, 13700, 39812, 9195, 12855, 11309, 23606, 11848, 6120, 6254, 8754, 6469, 8849, 9911, 7709, 534, 13465, 7341, 11230, 7878, 11029, 8790, 9006, 21942]\n",
    "print_lower_than_10000(daily_steps)  # make this work without error"
   ]
  },
  {
   "cell_type": "markdown",
   "metadata": {},
   "source": [
    "# Challenges (optional)\n",
    "Solution can be found in Homework/Solutions/Lesson3.ipynb"
   ]
  },
  {
   "cell_type": "code",
   "execution_count": null,
   "metadata": {},
   "outputs": [],
   "source": [
    "# Easy mode\n",
    "daily_steps = [11980, 10437, 17616, 24586, 16136, 13700, 39812, 9195, 12855, 11309, 23606, 11848, 6120, 6254, 8754, 6469, 8849, 9911, 7709, 534, 13465, 7341, 11230, 7878, 11029, 8790, 9006, 21942]\n",
    "\n",
    "# Find the total number of steps completed by this participant\n",
    "\n",
    "# Start here\n",
    "\n",
    "\n",
    "\n",
    "# Find the average daily steps of this participant. Hint: len(list) will return the number of items inside the list (the length of the list)\n",
    "\n",
    "# Start here"
   ]
  },
  {
   "cell_type": "code",
   "execution_count": null,
   "metadata": {},
   "outputs": [],
   "source": [
    "# Challenging mode\n",
    "p1_daily_steps = [11980, 10437, 17616, 24586, 16136, 13700, 39812, 9195, 12855, 11309, 23606, 11848, 6120, 6254, 8754, 6469, 8849, 9911, 7709, 534, 13465, 7341, 11230, 7878, 11029, 8790, 9006, 21942]\n",
    "p2_daily_steps = [22935, 13399, 25098, 29581, 26121, 12805, 16073, 15124, 16011, 6198, 10026, 10909, 14468, 4828, 11207, 7133, 14977, 13746, 12267, 9364, 1061, 6075, 11188, 11472, 10150, 13023, 6769, 10165]\n",
    "p3_daily_steps = [16272, 17231, 20595, 17047, 15216, 42590, 10969, 20687, 19170, 12703, 17192, 12865, 10960, 9105, 16019, 12646, 10042, 13353, 16072, 41673, 13425, 11262, 7801, 6666, 5276, 11353, 5344, 6282]\n",
    "p4_daily_steps = [10233, 16120, 12897, 24680, 13060, 20489, 10230, 25565, 10029, 12696, 13938, 9475, 5297, 8573, 9857, 15341, 9482, 11649, 5804, 11080, 6245, 7611, 8401, 5596, 6491, 7637, 7610, 9130]\n",
    "p5_daily_steps = [14126, 14110, 10111, 20440, 21416, 16989, 25371, 21539, 23045, 20043, 20328, 12058, 12004, 3301, 9789, 6671, 7893, 9589, 10459, 5091, 6329, 6784, 6543, 17984, 13588, 11077, 7856, 20897]\n",
    "\n",
    "team = { # a dictionary mapping initial to list of daily steps\n",
    "    'G': p1_daily_steps, \n",
    "    'I': p2_daily_steps, \n",
    "    'P': p3_daily_steps, \n",
    "    'T': p4_daily_steps, \n",
    "    'D': p5_daily_steps\n",
    "}\n",
    "\n",
    "# Print the total steps of each person in this format: 'Total steps of G is 100000000'\n",
    "# Hint 1: create a function to get total steps per person. \n",
    "# Hint 2: If a dictionary is called dict, dict.keys() will return the list of keys in that dictionary.\n",
    "\n",
    "# Start here\n",
    "\n",
    "\n",
    "\n",
    "# Print the total steps of the team\n",
    "\n",
    "# Start here\n",
    "\n",
    "\n",
    "\n",
    "# Print the initial of the person with total steps of more than 400k\n",
    "\n",
    "# Start here\n"
   ]
  },
  {
   "cell_type": "code",
   "execution_count": null,
   "metadata": {},
   "outputs": [],
   "source": []
  }
 ],
 "metadata": {
  "kernelspec": {
   "display_name": "Python 3",
   "language": "python",
   "name": "python3"
  },
  "language_info": {
   "codemirror_mode": {
    "name": "ipython",
    "version": 3
   },
   "file_extension": ".py",
   "mimetype": "text/x-python",
   "name": "python",
   "nbconvert_exporter": "python",
   "pygments_lexer": "ipython3",
   "version": "3.6.3"
  }
 },
 "nbformat": 4,
 "nbformat_minor": 2
}
