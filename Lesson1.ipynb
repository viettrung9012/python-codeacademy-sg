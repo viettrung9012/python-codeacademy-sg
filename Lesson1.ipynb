{
 "cells": [
  {
   "cell_type": "markdown",
   "metadata": {},
   "source": [
    "## Introduction\n",
    "\n",
    "* **Trainers:** EWE Singapore team (CodeSingapore@expedia.com)\n",
    "* **Class:** \n",
    "  * Please introduce yourselves\n",
    "  * State if you have learnt programming before (and if so which language)\n",
    "  * Tell what you hope to achieve at the end of the course\n"
   ]
  },
  {
   "cell_type": "markdown",
   "metadata": {},
   "source": [
    "## Course Overview\n",
    "\n",
    "* **Python:** version 3.6.0\n",
    "* **Data:** We will use the steps data from the recently completed Biggest Loser Challenge\n",
    "* **Every week:** You will learn something new in Python to help you answer questions on the Biggest Loser Challenge!\n",
    "* **At the end of the course:** You should be able to do simple data analysis using Python "
   ]
  },
  {
   "cell_type": "markdown",
   "metadata": {},
   "source": [
    "## Why is Python named Python?\n",
    "\n",
    "[Guido van Rossum](https://en.wikipedia.org/wiki/Guido_van_Rossum) is the creator of Python and also Python's [\"Benevolent Dictator For Life\" (BDFL)](https://en.wikipedia.org/wiki/Benevolent_dictator_for_life). When he started working on Python, he was also reading the published scripts from [\"Monty Python's Flying Circus\"](https://en.wikipedia.org/wiki/Monty_Python%27s_Flying_Circus), a BBC comedy series from the 1970s. Van Rossum thought he needed a name that was short, unique, and slightly mysterious, so he decided to call the language Python.\n",
    "Python was first introduced in 1990."
   ]
  },
  {
   "cell_type": "markdown",
   "metadata": {},
   "source": [
    "## But why are *we* learning Python?\n",
    "\n",
    "Python is a powerful high-level programming language, yet readable and easy to understand. No matter which [programming language ranking](https://techbeacon.com/programming-language-rankings-which-ones-matter) you refer to, Python is one of the most popular programming languages now. \n",
    "\n",
    "Also, you voted for it :)"
   ]
  },
  {
   "cell_type": "markdown",
   "metadata": {},
   "source": [
    "## Let's create your library to load your lessons!\n",
    "\n",
    "* Visit https://github.com/viettrung9012/python-codeacademy-sg\n",
    "* Click on **Launch AzureNB badge** -> **Import** -> Sign-in using your @expedia.com email -> **Import** again\n",
    "* Click on **Setting** -> Deselect **Public library** -> **Save** -> Make sure that the **Private** badge is displayed below library's name\n",
    "* Click on **Run** -> Change browser URL path from **/nb/tree** to **/nb/lab**\n",
    "* Bookmark this URL"
   ]
  },
  {
   "cell_type": "markdown",
   "metadata": {},
   "source": [
    "## Wait.. I don't need to install anything? \n",
    "\n",
    "No, you don't. We are hosting everything on **JupyterLab** (a web-based user interface that allows you to run your code in a flexible and integrated manner) and **Azure Notebook** (which provides free online access to Jupyter notebooks and JupyterLab)."
   ]
  },
  {
   "cell_type": "markdown",
   "metadata": {},
   "source": [
    "## Done? Let's talk about different File Types\n",
    "\n",
    "* A file (like this one!) which has a mixture of text as well as Python code is an iPython notebook, and has the file extension .ipynb\n",
    "* A file with only Python code is a Python script, and has the file extension .py"
   ]
  },
  {
   "cell_type": "markdown",
   "metadata": {},
   "source": [
    "## We will teach you 2 methods to run Python code\n",
    "1. Run python code within an iPython notebook (this is good for simple code snippets)\n",
    "2. Run python script from the Python terminal (this is for running entire programs)"
   ]
  },
  {
   "cell_type": "markdown",
   "metadata": {},
   "source": [
    "## Method 1: Run Python code within iPython notebook"
   ]
  },
  {
   "cell_type": "code",
   "execution_count": null,
   "metadata": {},
   "outputs": [],
   "source": [
    "# Hello, this is a code cell.\n",
    "# Comments start with # symbol, and don't get executed. \n",
    "\n",
    "# Select this cell and click on the play button above to run\n",
    "\n",
    "print (\"Hello World\")"
   ]
  },
  {
   "cell_type": "markdown",
   "metadata": {},
   "source": [
    "## Awesome, you've just written your first Python code!\n",
    "\n",
    "Want to try some more? Run the following cells!"
   ]
  },
  {
   "cell_type": "code",
   "execution_count": null,
   "metadata": {},
   "outputs": [],
   "source": [
    "1+1"
   ]
  },
  {
   "cell_type": "code",
   "execution_count": null,
   "metadata": {},
   "outputs": [],
   "source": [
    "7-4"
   ]
  },
  {
   "cell_type": "code",
   "execution_count": null,
   "metadata": {},
   "outputs": [],
   "source": [
    "2*3"
   ]
  },
  {
   "cell_type": "code",
   "execution_count": null,
   "metadata": {},
   "outputs": [],
   "source": [
    "5/2"
   ]
  },
  {
   "cell_type": "markdown",
   "metadata": {},
   "source": [
    "## Now, it's your turn to add a new cell!\n",
    "\n",
    "* Click on \"+\" button above to add a new cell\n",
    "* Add a new Code cell and create your own simple print command or math operations in Python"
   ]
  },
  {
   "cell_type": "markdown",
   "metadata": {},
   "source": [
    "## Method 2: Run Python script from the Python terminal\n",
    "\n",
    "1. Use your normal text editor and create a new file named *HelloWorld.py*. Within the file, there should be the following line: print (\"Hello World\")\n",
    "\n",
    "2. Click on the \"+\" button on the left side column. This will create a new tab named \"Launcher\". Click on \"Launcher\" tab, and under the \"Other\" section, click on \"Terminal\".\n",
    "3. This will launch a new tab that looks something like \"jovyan@jupyter....\". This will be your Python terminal.\n",
    "4. In the Python terminal, type \"python HelloWorld.py\"\n",
    "5. You will have the same output as above!"
   ]
  },
  {
   "cell_type": "markdown",
   "metadata": {},
   "source": [
    "## Recap\n",
    "\n",
    "Congratulations! You've learnt:\n",
    "\n",
    "* The origins of Python\n",
    "* How to create your library to set up your lessons\n",
    "* How to run Python code within an iPython notebook\n",
    "* Hoe to run Python script from the Python terminal\n",
    "* How to print output in Python\n",
    "* How to run simple Math operations in Python\n",
    "* How to add new cells\n",
    "* The different file types: \n",
    "  * .py\n",
    "  * .ipynb"
   ]
  },
  {
   "cell_type": "markdown",
   "metadata": {},
   "source": [
    "## References\n",
    "\n",
    "* The magic of Python has been summarized into this poem [Tim Peters - The Zen of Python](https://www.python.org/dev/peps/pep-0020/#id3)\n",
    "    \n"
   ]
  }
 ],
 "metadata": {
  "kernelspec": {
   "display_name": "Python 3",
   "language": "python",
   "name": "python3"
  },
  "language_info": {
   "codemirror_mode": {
    "name": "ipython",
    "version": 3
   },
   "file_extension": ".py",
   "mimetype": "text/x-python",
   "name": "python",
   "nbconvert_exporter": "python",
   "pygments_lexer": "ipython3",
   "version": "3.5.4"
  }
 },
 "nbformat": 4,
 "nbformat_minor": 2
}
