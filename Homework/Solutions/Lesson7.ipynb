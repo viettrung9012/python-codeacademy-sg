{
 "cells": [
  {
   "cell_type": "markdown",
   "metadata": {},
   "source": [
    "## Homework\n",
    "\n",
    "### Lesson 7"
   ]
  },
  {
   "cell_type": "code",
   "execution_count": 17,
   "metadata": {},
   "outputs": [
    {
     "data": {
      "text/html": [
       "<div>\n",
       "<style scoped>\n",
       "    .dataframe tbody tr th:only-of-type {\n",
       "        vertical-align: middle;\n",
       "    }\n",
       "\n",
       "    .dataframe tbody tr th {\n",
       "        vertical-align: top;\n",
       "    }\n",
       "\n",
       "    .dataframe thead th {\n",
       "        text-align: right;\n",
       "    }\n",
       "</style>\n",
       "<table border=\"1\" class=\"dataframe\">\n",
       "  <thead>\n",
       "    <tr style=\"text-align: right;\">\n",
       "      <th></th>\n",
       "      <th>Total Steps</th>\n",
       "    </tr>\n",
       "    <tr>\n",
       "      <th>Team Name</th>\n",
       "      <th></th>\n",
       "    </tr>\n",
       "  </thead>\n",
       "  <tbody>\n",
       "    <tr>\n",
       "      <th>Stop when you drop!!</th>\n",
       "      <td>291571.0</td>\n",
       "    </tr>\n",
       "    <tr>\n",
       "      <th>TBD</th>\n",
       "      <td>259749.0</td>\n",
       "    </tr>\n",
       "    <tr>\n",
       "      <th>Tears for Beers</th>\n",
       "      <td>249173.0</td>\n",
       "    </tr>\n",
       "    <tr>\n",
       "      <th>11,111 to No. 1</th>\n",
       "      <td>222513.0</td>\n",
       "    </tr>\n",
       "    <tr>\n",
       "      <th>FuFu</th>\n",
       "      <td>214674.0</td>\n",
       "    </tr>\n",
       "    <tr>\n",
       "      <th>Scrambled Legs</th>\n",
       "      <td>208666.0</td>\n",
       "    </tr>\n",
       "    <tr>\n",
       "      <th>The Slimsons</th>\n",
       "      <td>183239.0</td>\n",
       "    </tr>\n",
       "    <tr>\n",
       "      <th>Just Step It</th>\n",
       "      <td>177603.0</td>\n",
       "    </tr>\n",
       "    <tr>\n",
       "      <th>Here come the hotsteppers</th>\n",
       "      <td>174767.0</td>\n",
       "    </tr>\n",
       "    <tr>\n",
       "      <th>Cereal Killers</th>\n",
       "      <td>160456.0</td>\n",
       "    </tr>\n",
       "    <tr>\n",
       "      <th>Sole Striders</th>\n",
       "      <td>147712.0</td>\n",
       "    </tr>\n",
       "    <tr>\n",
       "      <th>Will Walk for Wine</th>\n",
       "      <td>146132.0</td>\n",
       "    </tr>\n",
       "    <tr>\n",
       "      <th>Smarty Pints</th>\n",
       "      <td>123839.0</td>\n",
       "    </tr>\n",
       "  </tbody>\n",
       "</table>\n",
       "</div>"
      ],
      "text/plain": [
       "                           Total Steps\n",
       "Team Name                             \n",
       "Stop when you drop!!          291571.0\n",
       "TBD                           259749.0\n",
       "Tears for Beers               249173.0\n",
       "11,111 to No. 1               222513.0\n",
       "FuFu                          214674.0\n",
       "Scrambled Legs                208666.0\n",
       "The Slimsons                  183239.0\n",
       "Just Step It                  177603.0\n",
       "Here come the hotsteppers     174767.0\n",
       "Cereal Killers                160456.0\n",
       "Sole Striders                 147712.0\n",
       "Will Walk for Wine            146132.0\n",
       "Smarty Pints                  123839.0"
      ]
     },
     "execution_count": 17,
     "metadata": {},
     "output_type": "execute_result"
    }
   ],
   "source": [
    "%matplotlib inline\n",
    "\n",
    "import pandas as pd\n",
    "bl2018 = pd.read_csv(\"../../Biggest Loser 2018.csv\")"
   ]
  },
  {
   "cell_type": "markdown",
   "metadata": {},
   "source": [
    "#### Bar Chart\n",
    "1. Create vertical bar chart with the team_name category for Saturday only."
   ]
  },
  {
   "cell_type": "code",
   "execution_count": 18,
   "metadata": {},
   "outputs": [
    {
     "data": {
      "text/html": [
       "<div>\n",
       "<style scoped>\n",
       "    .dataframe tbody tr th:only-of-type {\n",
       "        vertical-align: middle;\n",
       "    }\n",
       "\n",
       "    .dataframe tbody tr th {\n",
       "        vertical-align: top;\n",
       "    }\n",
       "\n",
       "    .dataframe thead th {\n",
       "        text-align: right;\n",
       "    }\n",
       "</style>\n",
       "<table border=\"1\" class=\"dataframe\">\n",
       "  <thead>\n",
       "    <tr style=\"text-align: right;\">\n",
       "      <th></th>\n",
       "      <th>Total Steps</th>\n",
       "    </tr>\n",
       "    <tr>\n",
       "      <th>Team Name</th>\n",
       "      <th></th>\n",
       "    </tr>\n",
       "  </thead>\n",
       "  <tbody>\n",
       "    <tr>\n",
       "      <th>Stop when you drop!!</th>\n",
       "      <td>291571.0</td>\n",
       "    </tr>\n",
       "    <tr>\n",
       "      <th>TBD</th>\n",
       "      <td>259749.0</td>\n",
       "    </tr>\n",
       "    <tr>\n",
       "      <th>Tears for Beers</th>\n",
       "      <td>249173.0</td>\n",
       "    </tr>\n",
       "    <tr>\n",
       "      <th>11,111 to No. 1</th>\n",
       "      <td>222513.0</td>\n",
       "    </tr>\n",
       "    <tr>\n",
       "      <th>FuFu</th>\n",
       "      <td>214674.0</td>\n",
       "    </tr>\n",
       "    <tr>\n",
       "      <th>Scrambled Legs</th>\n",
       "      <td>208666.0</td>\n",
       "    </tr>\n",
       "    <tr>\n",
       "      <th>The Slimsons</th>\n",
       "      <td>183239.0</td>\n",
       "    </tr>\n",
       "    <tr>\n",
       "      <th>Just Step It</th>\n",
       "      <td>177603.0</td>\n",
       "    </tr>\n",
       "    <tr>\n",
       "      <th>Here come the hotsteppers</th>\n",
       "      <td>174767.0</td>\n",
       "    </tr>\n",
       "    <tr>\n",
       "      <th>Cereal Killers</th>\n",
       "      <td>160456.0</td>\n",
       "    </tr>\n",
       "    <tr>\n",
       "      <th>Sole Striders</th>\n",
       "      <td>147712.0</td>\n",
       "    </tr>\n",
       "    <tr>\n",
       "      <th>Will Walk for Wine</th>\n",
       "      <td>146132.0</td>\n",
       "    </tr>\n",
       "    <tr>\n",
       "      <th>Smarty Pints</th>\n",
       "      <td>123839.0</td>\n",
       "    </tr>\n",
       "  </tbody>\n",
       "</table>\n",
       "</div>"
      ],
      "text/plain": [
       "                           Total Steps\n",
       "Team Name                             \n",
       "Stop when you drop!!          291571.0\n",
       "TBD                           259749.0\n",
       "Tears for Beers               249173.0\n",
       "11,111 to No. 1               222513.0\n",
       "FuFu                          214674.0\n",
       "Scrambled Legs                208666.0\n",
       "The Slimsons                  183239.0\n",
       "Just Step It                  177603.0\n",
       "Here come the hotsteppers     174767.0\n",
       "Cereal Killers                160456.0\n",
       "Sole Striders                 147712.0\n",
       "Will Walk for Wine            146132.0\n",
       "Smarty Pints                  123839.0"
      ]
     },
     "execution_count": 18,
     "metadata": {},
     "output_type": "execute_result"
    }
   ],
   "source": [
    "#Get the date columns\n",
    "date_col = list(bl2018.columns.values)[4:] #Get the column name for date only (starting from 4th column)\n",
    "\n",
    "#Transpose the date column into row, add the team_name column as well\n",
    "bardf = pd.melt(bl2018, id_vars=\"team_name\", value_vars=date_col, var_name=\"Date\", value_name=\"Total Steps\")\n",
    "\n",
    "#Rename the team_name column into Team Name\n",
    "bardf = bardf.rename(columns={'team_name': 'Team Name'})\n",
    "\n",
    "#Convert the Date column into datetime format\n",
    "bardf[\"Date\"] = pd.to_datetime(bardf[\"Date\"])\n",
    "\n",
    "#Get the Day of Week based on the Date column\n",
    "bardf[\"Day of Week\"] = bardf[\"Date\"].dt.weekday_name\n",
    "\n",
    "#Filter to Saturday only\n",
    "bardf = bardf.loc[bardf['Day of Week'] == 'Saturday']\n",
    "\n",
    "#Group by Team Name column\n",
    "bardf = bardf.groupby(\"Team Name\").sum()\n",
    "\n",
    "#Sort into descending order\n",
    "bardf = bardf.sort_values(by=[\"Total Steps\"], ascending=[False])\n",
    "\n",
    "bardf"
   ]
  },
  {
   "cell_type": "code",
   "execution_count": 19,
   "metadata": {},
   "outputs": [
    {
     "data": {
      "text/plain": [
       "<matplotlib.axes._subplots.AxesSubplot at 0x10ed84be0>"
      ]
     },
     "execution_count": 19,
     "metadata": {},
     "output_type": "execute_result"
    },
    {
     "data": {
      "image/png": "[encoded data removed]",
      "text/plain": [
       "<matplotlib.figure.Figure at 0x10ed84668>"
      ]
     },
     "metadata": {},
     "output_type": "display_data"
    }
   ],
   "source": [
    "bardf.plot.bar()"
   ]
  },
  {
   "cell_type": "markdown",
   "metadata": {},
   "source": [
    "2. Create horizontal bar chart using barh() function."
   ]
  },
  {
   "cell_type": "code",
   "execution_count": 20,
   "metadata": {},
   "outputs": [
    {
     "data": {
      "text/plain": [
       "<matplotlib.axes._subplots.AxesSubplot at 0x1147ca908>"
      ]
     },
     "execution_count": 20,
     "metadata": {},
     "output_type": "execute_result"
    },
    {
     "data": {
      "image/png": "[encoded data removed]",
      "text/plain": [
       "<matplotlib.figure.Figure at 0x10edb59b0>"
      ]
     },
     "metadata": {},
     "output_type": "display_data"
    }
   ],
   "source": [
    "bardf.plot.barh()"
   ]
  },
  {
   "cell_type": "markdown",
   "metadata": {},
   "source": [
    "#### Histogram\n",
    "1. Change the number of bins and observe the differences."
   ]
  },
  {
   "cell_type": "code",
   "execution_count": 30,
   "metadata": {},
   "outputs": [],
   "source": [
    "#Transpose the date column into row, add the team_name column as well\n",
    "histdf = pd.melt(bl2018, id_vars=\"team_name\", value_vars=date_col, value_name=\"Total Steps\")\n",
    "\n",
    "#Rename the team_name column into Team Name\n",
    "histdf = histdf.rename(columns={'team_name': 'Team Name'})"
   ]
  },
  {
   "cell_type": "code",
   "execution_count": 31,
   "metadata": {},
   "outputs": [
    {
     "data": {
      "text/plain": [
       "<matplotlib.axes._subplots.AxesSubplot at 0x115036a58>"
      ]
     },
     "execution_count": 31,
     "metadata": {},
     "output_type": "execute_result"
    },
    {
     "data": {
      "image/png": "[encoded data removed]",
      "text/plain": [
       "<matplotlib.figure.Figure at 0x114fdc198>"
      ]
     },
     "metadata": {},
     "output_type": "display_data"
    }
   ],
   "source": [
    "#10 bins\n",
    "histdf[\"Total Steps\"].plot.hist(bins=10)"
   ]
  },
  {
   "cell_type": "code",
   "execution_count": 32,
   "metadata": {},
   "outputs": [
    {
     "data": {
      "text/plain": [
       "<matplotlib.axes._subplots.AxesSubplot at 0x11566cc18>"
      ]
     },
     "execution_count": 32,
     "metadata": {},
     "output_type": "execute_result"
    },
    {
     "data": {
      "image/png": "[encoded data removed]",
      "text/plain": [
       "<matplotlib.figure.Figure at 0x1156c4160>"
      ]
     },
     "metadata": {},
     "output_type": "display_data"
    }
   ],
   "source": [
    "#50 bins\n",
    "histdf[\"Total Steps\"].plot.hist(bins=50)"
   ]
  },
  {
   "cell_type": "code",
   "execution_count": 33,
   "metadata": {},
   "outputs": [
    {
     "data": {
      "text/plain": [
       "<matplotlib.axes._subplots.AxesSubplot at 0x1156d2fd0>"
      ]
     },
     "execution_count": 33,
     "metadata": {},
     "output_type": "execute_result"
    },
    {
     "data": {
      "image/png": "[encoded data removed]",
      "text/plain": [
       "<matplotlib.figure.Figure at 0x1156ea4e0>"
      ]
     },
     "metadata": {},
     "output_type": "display_data"
    }
   ],
   "source": [
    "#100 bins\n",
    "histdf[\"Total Steps\"].plot.hist(bins=100)"
   ]
  },
  {
   "cell_type": "markdown",
   "metadata": {},
   "source": [
    "2. Create one histogram of any team and compare it with the histogram of the overall groups above."
   ]
  },
  {
   "cell_type": "code",
   "execution_count": 36,
   "metadata": {},
   "outputs": [
    {
     "data": {
      "text/plain": [
       "<matplotlib.axes._subplots.AxesSubplot at 0x11596ee10>"
      ]
     },
     "execution_count": 36,
     "metadata": {},
     "output_type": "execute_result"
    },
    {
     "data": {
      "image/png": "[encoded data removed]",
      "text/plain": [
       "<matplotlib.figure.Figure at 0x115927c50>"
      ]
     },
     "metadata": {},
     "output_type": "display_data"
    }
   ],
   "source": [
    "teamhistdf = histdf.loc[histdf['Team Name'] == 'FuFu']\n",
    "teamhistdf[\"Total Steps\"].plot.hist(bins=100)"
   ]
  },
  {
   "cell_type": "code",
   "execution_count": null,
   "metadata": {},
   "outputs": [],
   "source": []
  }
 ],
 "metadata": {
  "kernelspec": {
   "display_name": "Python 3",
   "language": "python",
   "name": "python3"
  },
  "language_info": {
   "codemirror_mode": {
    "name": "ipython",
    "version": 3
   },
   "file_extension": ".py",
   "mimetype": "text/x-python",
   "name": "python",
   "nbconvert_exporter": "python",
   "pygments_lexer": "ipython3",
   "version": "3.6.4"
  }
 },
 "nbformat": 4,
 "nbformat_minor": 2
}
