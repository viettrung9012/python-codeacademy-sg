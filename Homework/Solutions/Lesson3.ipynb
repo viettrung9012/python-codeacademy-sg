{
 "cells": [
  {
   "cell_type": "markdown",
   "metadata": {},
   "source": [
    "## In-class practices"
   ]
  },
  {
   "cell_type": "code",
   "execution_count": null,
   "metadata": {},
   "outputs": [],
   "source": [
    "# for loop practice\n",
    "# This is the list of steps recorded daily from one random participant (G) in our Biggest Loser Challenge\n",
    "daily_steps_list = [11980, 10437, 17616, 24586, 16136, 13700, 39812, 9195, 12855, 11309, 23606, 11848, 6120, 6254, 8754, 6469, 8849, 9911, 7709, 534, 13465, 7341, 11230, 7878, 11029, 8790, 9006, 21942]\n",
    "\n",
    "# Write a 'for' loop to print the steps and index of the days that G does not reach 10000\n",
    "for steps_in_a_day in daily_steps_list:\n",
    "    if steps_in_a_day < 10000:\n",
    "        print(steps_in_a_day)"
   ]
  },
  {
   "cell_type": "code",
   "execution_count": null,
   "metadata": {},
   "outputs": [],
   "source": [
    "# while loop practice\n",
    "# use while loop to print numbers divisible by 6 between 1 and 40 (each number is on one line)\n",
    "num = 1\n",
    "while num <= 40:\n",
    "    if num % 6 == 0:\n",
    "        print(num)\n",
    "    num = num + 1"
   ]
  },
  {
   "cell_type": "code",
   "execution_count": null,
   "metadata": {},
   "outputs": [],
   "source": [
    "# function practice #1\n",
    "# define a cube function that take in one number in parameter, return the cubic value of the number\n",
    "\n",
    "# Start here\n",
    "def cube(num):\n",
    "    return num ** 3\n",
    "\n",
    "# Don't touch the code below\n",
    "print(cube(3))  # make this work without error and print 27"
   ]
  },
  {
   "cell_type": "code",
   "execution_count": null,
   "metadata": {},
   "outputs": [],
   "source": [
    "# function practice #2\n",
    "# define a print_lower_than_10000 function that take in a list, print the numbers from the list smaller than 10000. Hint: function can contain loop\n",
    "\n",
    "# Start here\n",
    "def print_lower_than_10000(steps_list):\n",
    "    for steps_in_a_day in steps_list:\n",
    "        if steps_in_a_day < 10000:\n",
    "            print(steps_in_a_day)\n",
    "\n",
    "# Don't touch the code below\n",
    "daily_steps = [11980, 10437, 17616, 24586, 16136, 13700, 39812, 9195, 12855, 11309, 23606, 11848, 6120, 6254, 8754, 6469, 8849, 9911, 7709, 534, 13465, 7341, 11230, 7878, 11029, 8790, 9006, 21942]\n",
    "print_lower_than_10000(daily_steps)  # make this work without error"
   ]
  },
  {
   "cell_type": "markdown",
   "metadata": {},
   "source": [
    "## Challenges"
   ]
  },
  {
   "cell_type": "code",
   "execution_count": null,
   "metadata": {},
   "outputs": [],
   "source": [
    "# Easy mode\n",
    "daily_steps = [11980, 10437, 17616, 24586, 16136, 13700, 39812, 9195, 12855, 11309, 23606, 11848, 6120, 6254, 8754, 6469, 8849, 9911, 7709, 534, 13465, 7341, 11230, 7878, 11029, 8790, 9006, 21942]\n",
    "\n",
    "\n",
    "\n",
    "# Find the total number of steps completed by this participant\n",
    "\n",
    "# Start here\n",
    "total_steps = 0\n",
    "for steps in daily_steps:\n",
    "    total_steps = total_steps + steps\n",
    "print(total_steps)\n",
    "\n",
    "\n",
    "\n",
    "# Find the average daily steps of this participant. Hint: len(list) will return the number of items inside the list (the length of the list)\n",
    "\n",
    "# Start here\n",
    "average_steps = total_steps / len(daily_steps)\n",
    "print(round(average_steps))"
   ]
  },
  {
   "cell_type": "code",
   "execution_count": null,
   "metadata": {},
   "outputs": [],
   "source": [
    "# Challenging mode\n",
    "p1_daily_steps = [11980, 10437, 17616, 24586, 16136, 13700, 39812, 9195, 12855, 11309, 23606, 11848, 6120, 6254, 8754, 6469, 8849, 9911, 7709, 534, 13465, 7341, 11230, 7878, 11029, 8790, 9006, 21942]\n",
    "p2_daily_steps = [22935, 13399, 25098, 29581, 26121, 12805, 16073, 15124, 16011, 6198, 10026, 10909, 14468, 4828, 11207, 7133, 14977, 13746, 12267, 9364, 1061, 6075, 11188, 11472, 10150, 13023, 6769, 10165]\n",
    "p3_daily_steps = [16272, 17231, 20595, 17047, 15216, 42590, 10969, 20687, 19170, 12703, 17192, 12865, 10960, 9105, 16019, 12646, 10042, 13353, 16072, 41673, 13425, 11262, 7801, 6666, 5276, 11353, 5344, 6282]\n",
    "p4_daily_steps = [10233, 16120, 12897, 24680, 13060, 20489, 10230, 25565, 10029, 12696, 13938, 9475, 5297, 8573, 9857, 15341, 9482, 11649, 5804, 11080, 6245, 7611, 8401, 5596, 6491, 7637, 7610, 9130]\n",
    "p5_daily_steps = [14126, 14110, 10111, 20440, 21416, 16989, 25371, 21539, 23045, 20043, 20328, 12058, 12004, 3301, 9789, 6671, 7893, 9589, 10459, 5091, 6329, 6784, 6543, 17984, 13588, 11077, 7856, 20897]\n",
    "\n",
    "team = { # a dictionary mapping initial to list of daily steps\n",
    "    'G': p1_daily_steps, \n",
    "    'I': p2_daily_steps, \n",
    "    'P': p3_daily_steps, \n",
    "    'T': p4_daily_steps, \n",
    "    'D': p5_daily_steps\n",
    "}\n",
    "\n",
    "# Print the total steps of each person in this format: 'Total steps of G is 100000000'\n",
    "# Hint 1: create a function to get total steps per person. \n",
    "# Hint 2: If a dictionary is called dict, dict.keys() will return the list of keys in that dictionary.\n",
    "\n",
    "# Start here\n",
    "def get_total_steps_per_person(steps_list):\n",
    "    total = 0\n",
    "    for steps in steps_list:\n",
    "        total = total + steps\n",
    "    return total\n",
    "\n",
    "for member in team.keys():\n",
    "    member_steps_list = team[member]\n",
    "    member_total = get_total_steps_per_person(member_steps_list)\n",
    "    print(\"Total steps of\", member, \"is \", member_total)\n",
    "\n",
    "\n",
    "\n",
    "# Print the total steps of the team\n",
    "\n",
    "# Start here\n",
    "team_total = 0\n",
    "for member in team.keys():\n",
    "    member_steps_list = team[member]\n",
    "    member_total = get_total_steps_per_person(member_steps_list)\n",
    "    team_total = team_total + member_total\n",
    "print(\"Total steps of the team is\", team_total)\n",
    "\n",
    "\n",
    "\n",
    "# Print the initial of the person with total steps of more than 400k\n",
    "\n",
    "# Start here\n",
    "for member in team.keys():\n",
    "    member_total = get_total_steps_per_person(team[member]) # one-liner is shorter but usually harder to read\n",
    "    if member_total > 400000:\n",
    "        print(member)\n"
   ]
  }
 ],
 "metadata": {
  "kernelspec": {
   "display_name": "Python 3",
   "language": "python",
   "name": "python3"
  },
  "language_info": {
   "codemirror_mode": {
    "name": "ipython",
    "version": 3
   },
   "file_extension": ".py",
   "mimetype": "text/x-python",
   "name": "python",
   "nbconvert_exporter": "python",
   "pygments_lexer": "ipython3",
   "version": "3.6.3"
  }
 },
 "nbformat": 4,
 "nbformat_minor": 2
}
