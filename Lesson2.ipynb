{
 "cells": [
  {
   "cell_type": "markdown",
   "metadata": {},
   "source": [
    "## Lesson 2 Overview\n",
    "\n",
    "Now that you know how to run basic Python commands, let's learn about: \n",
    "* How to use control statements\n",
    "* How to read user inputs"
   ]
  },
  {
   "cell_type": "markdown",
   "metadata": {},
   "source": [
    "## Let's load today's lesson!\n",
    "\n",
    "### Open Azure Notebooks library \n",
    "\n",
    "Go to https://notebooks.azure.com -> Sign in if needed -> Select **python-codeacademy-sg**\n",
    "\n",
    "### Update lesson file to latest version\n",
    "\n",
    "Select **New** -> **From URL** -> input https://raw.githubusercontent.com/viettrung9012/python-codeacademy-sg/master/Lesson2.ipynb (URL is available in **Lesson2.ipynb**) -> Click outside input then select **Upload** (overwrite if needed)\n",
    "\n",
    "### Open Jupyter lab\n",
    "\n",
    "Click on **Lesson2.ipynb**\n"
   ]
  },
  {
   "cell_type": "markdown",
   "metadata": {},
   "source": [
    "## Control Statement\n",
    "\n",
    "Python, like any other programming language, provides a way for developers to execute certain actions based on certain conditions:\n",
    "\n",
    "> *If a condition is met, then I execute this code*\n",
    "\n",
    "For this, Python uses reserved words, or instructions, which are called **Control statements**\n",
    "\n",
    "The first one we are going to see is called...\n",
    "```python\n",
    "if\n",
    "```\n",
    "\n",
    "Couldn't be simpler !\n",
    "\n",
    "### If\n",
    "\n",
    "The syntax of the `if` statement is:\n",
    "\n",
    "```python\n",
    "if 'boolean condition' :\n",
    "    'code to execute'\n",
    "```\n",
    "the colon is used as a \"then\".\n",
    "\n",
    "Let's try it!"
   ]
  },
  {
   "cell_type": "code",
   "execution_count": null,
   "metadata": {},
   "outputs": [],
   "source": [
    "# When the number of students is greater than the number of seats, we print \"Not enough seats!\"\n",
    "nbStudents = 27\n",
    "nbSeats = 20\n",
    "\n",
    "if nbStudents > nbSeats:\n",
    "    print(\"Not enough seats!\")"
   ]
  },
  {
   "cell_type": "markdown",
   "metadata": {},
   "source": [
    "### If ... Else\n",
    "\n",
    "What if you want to execute a code when a condition is met AND another code when it's not met.\n",
    "\n",
    "> *If a condition is met, then i execute a code, if not, then I execute something else*\n",
    "\n",
    "Translates to Python as\n",
    "\n",
    "```python\n",
    "if 'boolean condition' :\n",
    "    'code to execute'\n",
    "else :\n",
    "    'another code to execute'\n",
    "```\n",
    "\n",
    "Try changing the number of students in the example below to print the \"All good!\" message:"
   ]
  },
  {
   "cell_type": "code",
   "execution_count": null,
   "metadata": {},
   "outputs": [],
   "source": [
    "nbStudents = 27\n",
    "nbSeats = 20\n",
    "\n",
    "if nbStudents > nbSeats:\n",
    "    print(\"Not enough seats!\")\n",
    "else:\n",
    "    print(\"All good!\")"
   ]
  },
  {
   "cell_type": "markdown",
   "metadata": {},
   "source": [
    "### If ... elif ... else\n",
    "\n",
    "What if you have multiple conditions and some code to execute for all of them?\n",
    "\n",
    "> *If a first condition is met, then I execute a code.*\n",
    "\n",
    "> *If the first condition is NOT met, BUT a second condition is met, then I execute this code instead*\n",
    "\n",
    "> *If none of the two conditions are met, then I execute this code instead*\n",
    "\n",
    "Translated to Python as\n",
    "\n",
    "```python\n",
    "if 'boolean condition' :\n",
    "    'code to execute'\n",
    "elif 'boolean condition' :\n",
    "    'another code to execute'\n",
    "else :\n",
    "    'another code to execute'\n",
    "```\n",
    "\n",
    "Now, let's try to modify the number of students in the example below to print all the three different messages:"
   ]
  },
  {
   "cell_type": "code",
   "execution_count": null,
   "metadata": {},
   "outputs": [],
   "source": [
    "nbStudents = 28\n",
    "minNbStudentsAllowed = 20\n",
    "maxNbStudentsAllowed = 30\n",
    "\n",
    "if nbStudents < minNbStudentsAllowed:\n",
    "    print(\"Not enough students!\")\n",
    "elif nbStudents > maxNbStudentsAllowed:\n",
    "    print(\"Too many students!\")\n",
    "else:\n",
    "    print(\"All good!\")"
   ]
  },
  {
   "cell_type": "markdown",
   "metadata": {
    "slideshow": {
     "slide_type": "slide"
    }
   },
   "source": [
    "## Advanced Types\n",
    "\n",
    "The advanced types in Python are also called data structures.\n",
    "\n",
    "A data structure is a particular way of organizing and storing data in a computer so that it can be accessed and modified efficiently. (https://en.wikipedia.org/wiki/Data_structure)\n",
    "\n",
    "Today, we will learn the following data structures: Lists, Tuples and Dictionaries."
   ]
  },
  {
   "cell_type": "markdown",
   "metadata": {
    "slideshow": {
     "slide_type": "slide"
    }
   },
   "source": [
    "### Lists\n",
    "\n",
    "As the name indicates, a List is an ordered set of data. It's also called Collections, sequences or Arrays. It is similar to our daily checklist, task list, etc.\n",
    "\n",
    "Data is comma-separated and you declare a list using square brackets. It accepts every type of data:\n",
    "\n",
    "```python\n",
    "# An empty list\n",
    "myList = []\n",
    "\n",
    "# A list of integers\n",
    "myList = [1,2,10,220]\n",
    "\n",
    "# A list of integers, floats, strings and booleans\n",
    "myList = [1,\"2\",10.5, False]\n",
    "\n",
    "# A list of Lists! (also called nested lists)\n",
    "myList = [[1,2], [3,4]]\n",
    "```\n",
    "\n",
    "Remember when you learnt that a String is like a List of characters?\n",
    "\n",
    "So, let's see one more time how to access an element of the list and how to get the number of elements in a list:"
   ]
  },
  {
   "cell_type": "code",
   "execution_count": null,
   "metadata": {},
   "outputs": [],
   "source": [
    "# Lists are index-based and the first element is at index 0:\n",
    "shopping_list = ['Apple', 'Banana', 'Orange', \"Strawberry\", \"Mango\"]\n",
    "\n",
    "print(\"Accessing the first element of the list (Index 0):\", shopping_list[0])\n",
    "\n",
    "# You can get a sublist of items by using a range of indices separated by a colon.\n",
    "# First index is inclusive, second index is exclusive\n",
    "print(\"Get the elements from index 1 to 4:\", shopping_list[1:4])\n",
    "\n",
    "# Changing an element of the list\n",
    "shopping_list[2] = \"Cherry\"\n",
    "print(\"I've changed the third element (Index 2)\")\n",
    "print(\"Here's my new shopping list:\", shopping_list)\n",
    "\n",
    "# We use the len() method to get the numbers of elements in a List\n",
    "print(\"The Shopping list has\", len(shopping_list), \"items\")"
   ]
  },
  {
   "cell_type": "markdown",
   "metadata": {
    "slideshow": {
     "slide_type": "slide"
    }
   },
   "source": [
    "When there are some Lists inside a List, we call them nested Lists. You will learn later that it's the same for every data structure (nested Tuples, nested Dictionaries, etc.)\n",
    "\n",
    "Let's see how to access data in a nested list:"
   ]
  },
  {
   "cell_type": "code",
   "execution_count": null,
   "metadata": {},
   "outputs": [],
   "source": [
    "myNestedList = [[\"Apple\", \"Banana\"], [12, 44, 65], [3.14]]\n",
    "\n",
    "# First, you indicate the index of the sublist you want to access\n",
    "subList = myNestedList[1]\n",
    "# Then, just like we learnt earlier, we access the desired value using its index.\n",
    "myValue = subList[2]\n",
    "print(\"Third value of the second list:\", myValue)\n",
    "\n",
    "# Let's combine everything in one line:\n",
    "print(myNestedList[1][0], myNestedList[0][1] + \"s\", \"are worth\", myNestedList[2][0], \"$\")"
   ]
  },
  {
   "cell_type": "markdown",
   "metadata": {
    "slideshow": {
     "slide_type": "slide"
    }
   },
   "source": [
    "#### Operators\n",
    "\n",
    "##### Append\n",
    "\n",
    "The `append(x)` method adds the element `x` to the end of the list:"
   ]
  },
  {
   "cell_type": "code",
   "execution_count": null,
   "metadata": {},
   "outputs": [],
   "source": [
    "myList = [1, 20]\n",
    "print(\"Before append():\", myList)\n",
    "\n",
    "myList.append(10)\n",
    "print(\"After append():\", myList)"
   ]
  },
  {
   "cell_type": "markdown",
   "metadata": {
    "slideshow": {
     "slide_type": "slide"
    }
   },
   "source": [
    "To add multiple elements at once, you can use the `+` operator to combine two lists:"
   ]
  },
  {
   "cell_type": "code",
   "execution_count": null,
   "metadata": {},
   "outputs": [],
   "source": [
    "myList = [1, 2, 3]\n",
    "print(\"Before +:\", myList)\n",
    "\n",
    "myList = myList + [4, 5, 6]\n",
    "print(\"After +:\", myList)"
   ]
  },
  {
   "cell_type": "markdown",
   "metadata": {
    "slideshow": {
     "slide_type": "slide"
    }
   },
   "source": [
    "##### Remove\n",
    "\n",
    "The `remove(x)` method removes the first item from the list whose value is `x`. An error is returned if there is no such item:"
   ]
  },
  {
   "cell_type": "code",
   "execution_count": null,
   "metadata": {},
   "outputs": [],
   "source": [
    "myList = [1, 20, 1, 10]\n",
    "print(\"Before remove():\", myList)\n",
    "\n",
    "myList.remove(1)\n",
    "print(\"After remove():\", myList)\n",
    "print(\"Only the first occurrence of 1 has been removed\")"
   ]
  },
  {
   "cell_type": "code",
   "execution_count": null,
   "metadata": {},
   "outputs": [],
   "source": [
    "myList = [1, 20, 1, 10]\n",
    "\n",
    "# 33 is not present in the list, therefore an error is thrown.\n",
    "myList.remove(33)"
   ]
  },
  {
   "cell_type": "markdown",
   "metadata": {
    "slideshow": {
     "slide_type": "slide"
    }
   },
   "source": [
    "##### Insert\n",
    "\n",
    "The `insert(i, x)` method inserts an item at a given position. `i` being the index to insert the item `x` at."
   ]
  },
  {
   "cell_type": "code",
   "execution_count": null,
   "metadata": {},
   "outputs": [],
   "source": [
    "myList = [1, \"apple\", 4.5]\n",
    "print(\"Before insert():\", myList)\n",
    "\n",
    "myList.insert(2, \"Banana\")\n",
    "print(\"After insert(2, \\\"Banana\\\"):\", myList)"
   ]
  },
  {
   "cell_type": "markdown",
   "metadata": {
    "slideshow": {
     "slide_type": "slide"
    }
   },
   "source": [
    "##### In\n",
    "\n",
    "You can check if a List contains a certain value by using the `in` operator.\n",
    "\n",
    "```python\n",
    "value in [List]\n",
    "```\n",
    "\n",
    "Will return True or False as a boolean statement. "
   ]
  },
  {
   "cell_type": "code",
   "execution_count": null,
   "metadata": {},
   "outputs": [],
   "source": [
    "print(\"Is 42 part of the list?\", 42 in [1, 'Bob', 4.0, 42, True])\n",
    "\n",
    "shoppingList = [\"Apple\", 'Banana', 'Orange', \"Strawberry\", \"Mango\"]\n",
    "\n",
    "print(\"Is Cherry part of my Shopping List?\", \"Cherry\" in shoppingList)"
   ]
  },
  {
   "cell_type": "markdown",
   "metadata": {
    "slideshow": {
     "slide_type": "slide"
    }
   },
   "source": [
    "It will be very useful to be used with Control Statements!"
   ]
  },
  {
   "cell_type": "code",
   "execution_count": null,
   "metadata": {},
   "outputs": [],
   "source": [
    "shoppingList = [\"Apple\", 'Banana', 'Orange', \"Strawberry\", \"Mango\"]\n",
    "\n",
    "if \"Cherry\" in shoppingList:\n",
    "    print(\"All good!\")\n",
    "else:\n",
    "    print(\"Don't forget the Cherries!\")"
   ]
  },
  {
   "cell_type": "markdown",
   "metadata": {
    "slideshow": {
     "slide_type": "slide"
    }
   },
   "source": [
    "### Tuples\n",
    "\n",
    "Tuples are like Lists, with the small difference that they cannot be modified. We call them an **immutable** data structure.\n",
    "\n",
    "It is useful when you want to use a constant set of Data as reference.\n",
    "\n",
    "They are declared using parenthesis instead of square brackets for Lists, but all the operators or methods described earlier for Lists work for Tuples too."
   ]
  },
  {
   "cell_type": "code",
   "execution_count": null,
   "metadata": {},
   "outputs": [],
   "source": [
    "weekDays = (\"Monday\", \"Tuesday\", \"Wednesday\", \"Thursday\", \"Friday\", \"Saturday\", \"Sunday\")\n",
    "print(weekDays)\n",
    "print(\"First day of the week:\", weekDays[0])\n",
    "print(\"Working days:\", weekDays[0:5])"
   ]
  },
  {
   "cell_type": "markdown",
   "metadata": {
    "slideshow": {
     "slide_type": "slide"
    }
   },
   "source": [
    "Tuples are immutable. If we try to add or remove an element, an error is thrown."
   ]
  },
  {
   "cell_type": "code",
   "execution_count": null,
   "metadata": {},
   "outputs": [],
   "source": [
    "weekDays = (\"Monday\", \"Tuesday\", \"Wednesday\", \"Thursday\", \"Friday\", \"Saturday\", \"Sunday\")\n",
    "weekDays.append(\"OtherDay\")"
   ]
  },
  {
   "cell_type": "code",
   "execution_count": null,
   "metadata": {},
   "outputs": [],
   "source": [
    "weekDays = (\"Monday\", \"Tuesday\", \"Wednesday\", \"Thursday\", \"Friday\", \"Saturday\", \"Sunday\")\n",
    "weekDays.remove(\"Monday\")"
   ]
  },
  {
   "cell_type": "markdown",
   "metadata": {
    "slideshow": {
     "slide_type": "slide"
    }
   },
   "source": [
    "But, we can cast a Tuple to a List! We will then get a copy of the data that we can modify."
   ]
  },
  {
   "cell_type": "code",
   "execution_count": null,
   "metadata": {},
   "outputs": [],
   "source": [
    "weekDays = (\"Monday\", \"Tuesday\", \"Wednesday\", \"Thursday\", \"Friday\", \"Saturday\", \"Sunday\")\n",
    "workingDays = list(weekDays)\n",
    "workingDays.remove(\"Saturday\")\n",
    "workingDays.remove(\"Sunday\")\n",
    "\n",
    "print(\"Working days:\", workingDays)\n",
    "print(\"And the original Tuple still exist and hasn't been modified:\", weekDays)"
   ]
  },
  {
   "cell_type": "markdown",
   "metadata": {
    "slideshow": {
     "slide_type": "slide"
    }
   },
   "source": [
    "### Dictionaries\n",
    "\n",
    "List and Tuples are nice but become quickly limited when we want to manipulate more detailed and organised data.\n",
    "\n",
    "Let's write down some users' personal data for example:"
   ]
  },
  {
   "cell_type": "code",
   "execution_count": null,
   "metadata": {},
   "outputs": [],
   "source": [
    "aliceDetails = [\n",
    "    'Alice',    # name\n",
    "    12,         # age\n",
    "    ['reading', 'singing']  # hobbies\n",
    "]\n",
    "bobDetails = [\n",
    "    24,\n",
    "    ['dancing', 'drawing'],\n",
    "    'Bob',\n",
    "    '33 Mackenzie Road'\n",
    "]\n",
    "\n",
    "print(\"Alice's age:\", aliceDetails[1])\n",
    "print(\"Bob's age:\", bobDetails[0])\n",
    "print(\"Bob's home address:\", bobDetails[3])"
   ]
  },
  {
   "cell_type": "markdown",
   "metadata": {},
   "source": [
    "As a developer, it's easy to see what index tallies to the user's age.\n",
    "\n",
    "But, what if I have 100 users who have 100 different details each? And how do I retrieve Alice's home address? \n",
    "\n",
    "It would be a nightmare to retrieve the right detail accurately.\n",
    "\n",
    "That's why, for more detailed and organised data, we use a data structure called **Dictionaries**\n",
    "\n",
    "A Dictionary is a collection of key-value paired data. Unlike Lists, we use a label (called a key) as index, not a number.\n",
    "\n",
    "A Dictionary is declared using curly brackets `{}` and a value is assigned to a key by using the colon `:` operator. E.g."
   ]
  },
  {
   "cell_type": "code",
   "execution_count": null,
   "metadata": {},
   "outputs": [],
   "source": [
    "alice_details = {\n",
    "    'name': 'Alice',  # key : value\n",
    "    'age': 12,\n",
    "    'hobbies': ['reading', 'singing']\n",
    "}\n",
    "bob_details = {\n",
    "    'age': 24,\n",
    "    'hobbies': ['dancing', 'drawing'],\n",
    "    'name': 'Bob',\n",
    "    'address': '33 Mackenzie Road'\n",
    "}\n",
    "\n",
    "# dictionary[key] - We can access the value through the key, not the index\n",
    "print(\"Alice's name:\", alice_details['name']) \n",
    "print(\"Bob's name:\", bob_details['name']) "
   ]
  },
  {
   "cell_type": "markdown",
   "metadata": {
    "slideshow": {
     "slide_type": "slide"
    }
   },
   "source": [
    "No matter how the data is ordered, by using a key, we are sure to find the right data.\n",
    "\n",
    "Just like Lists, Dictionaries' values can be of any types: Strings, Booleans, Numbers, and even Lists and Dictionaries.\n",
    "\n",
    "Combining Lists and Dictionaries will allow us to create nested Dictionaries with even more detailed date.\n",
    "\n",
    "Can you update the code below in order to print the correct desired output?"
   ]
  },
  {
   "cell_type": "code",
   "execution_count": null,
   "metadata": {},
   "outputs": [],
   "source": [
    "# A Dictionary\n",
    "peter_details = {\n",
    "    'name': 'Peter',\n",
    "    'age': 12,\n",
    "    # A nested dictionary to represent the address\n",
    "    'address': {\n",
    "        'city': 'Paris',\n",
    "        'country': \"France\",\n",
    "        'street': 'Rue de la Paix'\n",
    "    }\n",
    "}\n",
    "\n",
    "# A List of Dictionaries\n",
    "peter_classmates = [\n",
    "    {\n",
    "        'name': 'Alice',\n",
    "        'age': 12,\n",
    "        'hobbies': ['reading', 'singing']\n",
    "    },\n",
    "    {\n",
    "        'name': 'Bob',\n",
    "        'age': 12,\n",
    "        'hobbies': ['dancing', 'drawing'],\n",
    "        'test_scores': {\n",
    "            'math': 100,\n",
    "            'english': 99\n",
    "        }\n",
    "    }\n",
    "]\n",
    "\n",
    "\n",
    "# print Peter's name\n",
    "print(peter_details['name'])\n",
    "\n",
    "# print Peter's age\n",
    "\n",
    "\n",
    "# print Peter's city\n",
    "\n",
    "\n",
    "# print Peter's first classmate first hobby\n",
    "\n",
    "\n",
    "# print Bob's English score"
   ]
  },
  {
   "cell_type": "markdown",
   "metadata": {
    "slideshow": {
     "slide_type": "slide"
    }
   },
   "source": [
    "#### Operators\n",
    "\n",
    "##### Updating an element"
   ]
  },
  {
   "cell_type": "code",
   "execution_count": null,
   "metadata": {},
   "outputs": [],
   "source": [
    "peter_details = {\n",
    "    'name': 'Peter',\n",
    "    'age': 12\n",
    "}\n",
    "print(\"Peter's age:\", peter_details['age'])\n",
    "\n",
    "# Specify the key to modify and assign the value with =\n",
    "peter_details['age'] = 24\n",
    "\n",
    "print(\"Peter's age:\", peter_details['age'])"
   ]
  },
  {
   "cell_type": "markdown",
   "metadata": {
    "slideshow": {
     "slide_type": "slide"
    }
   },
   "source": [
    "##### Adding a new element"
   ]
  },
  {
   "cell_type": "code",
   "execution_count": null,
   "metadata": {},
   "outputs": [],
   "source": [
    "peter_details = {\n",
    "    'name': 'Peter',\n",
    "    'age': 12\n",
    "}\n",
    "\n",
    "# Just use a key that doesn't exist yet\n",
    "peter_details['address'] = \"33 Mackenzie road\"\n",
    "\n",
    "print(\"Peter's address:\", peter_details['address'])\n",
    "print(\"Peter's details:\", peter_details)"
   ]
  },
  {
   "cell_type": "markdown",
   "metadata": {
    "slideshow": {
     "slide_type": "slide"
    }
   },
   "source": [
    "##### Deleting"
   ]
  },
  {
   "cell_type": "code",
   "execution_count": null,
   "metadata": {},
   "outputs": [],
   "source": [
    "dict = {'Name': 'Zara', 'Age': 7, 'Class': 'First'}\n",
    "print(\"Zara's dict:\", dict)\n",
    "\n",
    "del(dict['Name']) # remove entry with key 'Name'\n",
    "print(\"After del(dict['Name']):\", dict)\n",
    "\n",
    "dict.clear()      # remove all entries in dict\n",
    "print(\"After dict.clear() :\", dict)\n",
    "\n",
    "del(dict)         # delete entire dictionary\n",
    "print(\"After del(dict):\", dict)"
   ]
  },
  {
   "cell_type": "markdown",
   "metadata": {
    "slideshow": {
     "slide_type": "slide"
    }
   },
   "source": [
    "##### Useful methods"
   ]
  },
  {
   "cell_type": "code",
   "execution_count": null,
   "metadata": {},
   "outputs": [],
   "source": [
    "dict = {'Name': 'Zara', 'Age': 7, 'Class': 'First'}\n",
    "\n",
    "print(\"Size of dictionary:\", len(dict))\n",
    "print(\"Get all the values as as List:\", dict.values())\n",
    "print(\"Get all the keys as as List:\", dict.keys())"
   ]
  },
  {
   "cell_type": "markdown",
   "metadata": {
    "slideshow": {
     "slide_type": "slide"
    }
   },
   "source": [
    "## User inputs\n",
    "\n",
    "Writing code with fixed data like we did in the previous section is cool, but using dynamic data directly from your end user is awesome!\n",
    "\n",
    "Python permits it with a method called `input()`\n",
    "\n",
    "Its syntax is:\n",
    "\n",
    "```python\n",
    "myVar = input(\"Question\")\n",
    "```\n",
    "\n",
    "Where `\"Qestion\"` will be printed in your terminal, and then, the user will be allowed to type an answer.\n",
    "\n",
    "When the user press *Enter*, the input will then be assigned to the variable `myVar`\n",
    "\n",
    "Let's try it:"
   ]
  },
  {
   "cell_type": "code",
   "execution_count": null,
   "metadata": {
    "scrolled": true
   },
   "outputs": [],
   "source": [
    "myName = input(\"What's your name? \")\n",
    "\n",
    "print(\"Hello\", myName, \"!\")"
   ]
  },
  {
   "cell_type": "markdown",
   "metadata": {
    "slideshow": {
     "slide_type": "slide"
    }
   },
   "source": [
    "User inputs will always be of String type, which can be troublesome when you want to perform operations which need other data types.\n",
    "\n",
    "For instance, the following code will generate an error because `2018` is a number and `aNumber` is String, and you cannot substract a number with a String!"
   ]
  },
  {
   "cell_type": "code",
   "execution_count": null,
   "metadata": {},
   "outputs": [],
   "source": [
    "aNumber = input(\"What is your year of birth? \")\n",
    "age = 2018 - aNumber"
   ]
  },
  {
   "cell_type": "markdown",
   "metadata": {
    "slideshow": {
     "slide_type": "slide"
    }
   },
   "source": [
    "In order to fix this, you will need to cast the input to the desired type. I.e."
   ]
  },
  {
   "cell_type": "code",
   "execution_count": null,
   "metadata": {},
   "outputs": [],
   "source": [
    "aNumber = int(input(\"What is your year of birth? \"))\n",
    "age = 2018 - aNumber\n",
    "print(\"Not bad for someone\", age, \"years old (or soon to be...)\")"
   ]
  },
  {
   "cell_type": "markdown",
   "metadata": {
    "slideshow": {
     "slide_type": "slide"
    }
   },
   "source": [
    "## Time to code\n",
    "\n",
    "It's now time for you to code a small program with everything you have learnt today!\n",
    "\n",
    "Use the code cell just below to write a program that will:\n",
    "\n",
    "#### Exercise 1:\n",
    "1. Ask the user for his firstname\n",
    "2. Ask the user for his lastname\n",
    "3. Ask the user for his gender\n",
    "4. Ask the user if he's married\n",
    "5. Print the following message \"Hello {title} {name}, your initials are: {initials}\"\n",
    "    * Where {title} is either Mr., Mrs., or Miss. depending on the user's answers\n",
    "    * Where {initials} is the first letter of his firstname and lastname.\n",
    "\n",
    "#### Exercise 2:\n",
    "1. Ask the user for his age\n",
    "2. Ask the user for the list of all his siblings age in order\n",
    "3. Print the number of siblings\n",
    "4. Print the birth order of the user among his siblings\n",
    "\n",
    "#### Exercise 3:\n",
    "1. Imagine a team of 3 persons. Write every team member's details (name, age, address, hobbies) in a variable.\n",
    "2. Ask the user for the number of the team member he wants to see the details of and print it\n",
    "3. Ask the user for a team member's name and print his details."
   ]
  },
  {
   "cell_type": "code",
   "execution_count": null,
   "metadata": {},
   "outputs": [],
   "source": [
    "# Write your program for Exercise 1 here\n",
    "\n",
    "\n",
    "\n"
   ]
  },
  {
   "cell_type": "code",
   "execution_count": null,
   "metadata": {},
   "outputs": [],
   "source": [
    "# Write your program for Exercise 2 here\n",
    "\n",
    "\n",
    "\n"
   ]
  },
  {
   "cell_type": "code",
   "execution_count": null,
   "metadata": {},
   "outputs": [],
   "source": [
    "# Write your program for Exercise 3 here\n",
    "\n",
    "\n",
    "\n"
   ]
  },
  {
   "cell_type": "markdown",
   "metadata": {
    "slideshow": {
     "slide_type": "slide"
    }
   },
   "source": [
    "That's it for Lesson 2!\n",
    "\n",
    "If you'd like to dig deeper into the different types, operators, and control statements, you can have a look at the following pages: \n",
    "\n",
    "* [Basic Operators](https://www.learnpython.org/en/Basic_Operators)\n",
    "* [Lists](https://docs.python.org/3/tutorial/datastructures.html)\n",
    "* [Tuples](https://www.tutorialspoint.com/python/python_tuples.htm)\n",
    "* [Dictionaries](https://www.tutorialspoint.com/python/python_dictionary.htm)\n",
    "* [String Formatting](https://www.learnpython.org/en/String_Formatting)\n",
    "* [Basic String Operations](https://www.learnpython.org/en/Basic_String_Operations)\n",
    "* [Conditions](https://www.learnpython.org/en/Conditions)\n",
    "\n",
    "See you next week!"
   ]
  }
 ],
 "metadata": {
  "kernelspec": {
   "display_name": "Python 3",
   "language": "python",
   "name": "python3"
  },
  "language_info": {
   "codemirror_mode": {
    "name": "ipython",
    "version": 3
   },
   "file_extension": ".py",
   "mimetype": "text/x-python",
   "name": "python",
   "nbconvert_exporter": "python",
   "pygments_lexer": "ipython3",
   "version": "3.5.4"
  }
 },
 "nbformat": 4,
 "nbformat_minor": 2
}
