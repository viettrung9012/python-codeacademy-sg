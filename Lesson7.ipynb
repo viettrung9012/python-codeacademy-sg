{
 "cells": [
  {
   "cell_type": "markdown",
   "metadata": {},
   "source": [
    "# Lesson 7 Overview\n",
    "\n",
    "1. Charts\n",
    "2. Bar chart\n",
    "3. Histogram\n",
    "4. Pie chart\n",
    "5. Time series"
   ]
  },
  {
   "cell_type": "markdown",
   "metadata": {},
   "source": [
    "## Let's load today's lesson!\n",
    "\n",
    "### Open Azure Notebooks library \n",
    "\n",
    "Go to https://notebooks.azure.com -> Sign in if needed -> Select **python-codeacademy-sg**\n",
    "\n",
    "### Update lesson file to latest version\n",
    "\n",
    "Select **New** -> **From URL** -> input https://raw.githubusercontent.com/viettrung9012/python-codeacademy-sg/master/Lesson7.ipynb (URL is available in **Lesson7.ipynb**) -> Click outside input then select **Upload** (overwrite if needed)\n",
    "\n",
    "### Open Jupyter lab\n",
    "\n",
    "From your browser's bookmark or **Run** -> Change browser URL path from **/nb/tree** to **/nb/lab**\n",
    "\n",
    "Select **Lesson7.ipynb**"
   ]
  },
  {
   "cell_type": "markdown",
   "metadata": {},
   "source": [
    "## Charts\n",
    "A chart is a visual representation of the data and it allows its readers to understand the information quicker than reading the raw data.\n",
    "\n",
    "Compare the data and the chart below, which one do you find easier to get <b>meaningful insights</b>?\n",
    "\n",
    "### Raw data \n",
    "- Source: [United Nations' Total Population data](https://esa.un.org/unpd/wpp/Download/Standard/Population/)\n",
    "- Total Population of both Sexes. De facto population in a country, area or region as of 1 July of the year indicated. Figures are presented in thousands.\n",
    "- Can you infer any insights from the data?\n",
    "![World Population](UNTotalPopulation.png)\n",
    "\n",
    "### Chart\n",
    "- Soure: [Hans Rosling's Income-Life Expectancy relationship graph](https://www.gapminder.org/answers/how-does-income-relate-to-life-expectancy/)\n",
    "- Color shows the region: Africa (blue), Americas (green), Asia (red), Europe (yellow)\n",
    "- Bubble size indicates the size of population\n",
    "- So, what can we infer from the chart below? How does Africa compared to Asia?\n",
    "![Income-Life Expectancy](HansRosling.png)"
   ]
  },
  {
   "cell_type": "markdown",
   "metadata": {},
   "source": [
    "### Preparing Data\n",
    "We need to do the following steps to prepare the data before we transform them into the charts.\n",
    "1. Use csv library.\n",
    "2. Open the csv file.\n",
    "3. Read the csv file to determine how to transform the data to suit with the chart type. "
   ]
  },
  {
   "cell_type": "code",
   "execution_count": 75,
   "metadata": {},
   "outputs": [
    {
     "name": "stdout",
     "output_type": "stream",
     "text": [
      "['\\ufeffteam_no', 'team_name', 'team_captain', 'team_member', '2018-04-02', '2018-04-03', '2018-04-04', '2018-04-05', '2018-04-06', '2018-04-07', '2018-04-08', '2018-04-09', '2018-04-10', '2018-04-11', '2018-04-12', '2018-04-13', '2018-04-14', '2018-04-15', '2018-04-16', '2018-04-17', '2018-04-18', '2018-04-19', '2018-04-20', '2018-04-21', '2018-04-22', '2018-04-23', '2018-04-24', '2018-04-25', '2018-04-26', '2018-04-27', '2018-04-28', '2018-04-29']\n",
      "['1', 'TBD', 'FALSE', '1-1', '11980', '10437', '17616', '24586', '16136', '13700', '39812', '9195', '12855', '11309', '23606', '11848', '6120', '6254', '8754', '6469', '8849', '9911', '7709', '534', '13465', '7341', '11230', '7878', '11029', '8790', '9006', '21942']\n",
      "['1', 'TBD', 'FALSE', '1-2', '22935', '13399', '25098', '29581', '26121', '12805', '16073', '15124', '16011', '6198', '10026', '10909', '14468', '4828', '11207', '7133', '14977', '13746', '12267', '9364', '1061', '6075', '11188', '11472', '10150', '13023', '6769', '10165']\n",
      "['1', 'TBD', 'TRUE', '1-3', '16272', '17231', '20595', '17047', '15216', '42590', '10969', '20687', '19170', '12703', '17192', '12865', '10960', '9105', '16019', '12646', '10042', '13353', '16072', '41673', '13425', '11262', '7801', '6666', '5276', '11353', '5344', '6282']\n",
      "['1', 'TBD', 'FALSE', '1-4', '10233', '16120', '12897', '24680', '13060', '20489', '10230', '25565', '10029', '12696', '13938', '9475', '5297', '8573', '9857', '15341', '9482', '11649', '5804', '11080', '6245', '7611', '8401', '5596', '6491', '7637', '7610', '9130']\n",
      "['1', 'TBD', 'FALSE', '1-5', '14126', '14110', '10111', '20440', '21416', '16989', '25371', '21539', '23045', '20043', '20328', '12058', '12004', '3301', '9789', '6671', '7893', '9589', '10459', '5091', '6329', '6784', '6543', '17984', '13588', '11077', '7856', '20897']\n",
      "['2', 'Sole Striders', 'TRUE', '2-1', '7434', '11482', '8679', '14780', '13221', '16870', '6780', '', '', '', '', '', '', '', '', '', '', '', '', '', '', '', '', '', '', '', '', '']\n",
      "['2', 'Sole Striders', 'FALSE', '2-2', '6545', '7232', '7629', '6322', '6290', '6269', '5003', '6128', '8031', '', '', '', '', '', '', '', '', '', '', '', '', '', '', '', '', '', '', '']\n",
      "['2', 'Sole Striders', 'FALSE', '2-3', '2751', '10808', '5734', '13583', '13052', '10474', '7000', '16006', '9577', '4661', '8770', '5522', '11042', '13251', '12938', '8635', '6805', '7507', '3661', '9431', '10599', '14678', '10434', '7891', '14187', '16152', '27417', '30719']\n",
      "['2', 'Sole Striders', 'FALSE', '2-4', '14043', '8672', '6856', '16586', '7284', '5449', '5653', '13204', '21527', '11815', '11645', '18915', '7503', '18037', '6133', '9052', '8624', '6898', '5464', '4657', '9870', '6828', '13221', '9983', '8791', '8511', '27244', '6423']\n",
      "['2', 'Sole Striders', 'FALSE', '2-5', '7564', '9353', '9263', '7627', '12448', '6521', '5045', '9438', '10028', '11391', '9980', '10423', '8889', '4676', '5837', '8937', '7160', '5322', '6975', '5946', '5375', '8898', '7030', '10711', '8677', '', '', '']\n",
      "['3', 'FuFu', 'FALSE', '3-1', '12946', '9170', '16978', '9565', '14209', '9476', '19242', '10830', '13684', '11953', '15223', '7958', '13796', '5339', '13602', '7834', '8675', '7010', '14557', '8496', '10195', '7232', '6791', '4117', '15140', '7339', '9603', '9049']\n",
      "['3', 'FuFu', 'FALSE', '3-2', '9052', '15078', '10672', '7533', '9589', '17986', '4586', '8922', '16305', '15696', '14749', '11897', '8166', '11986', '8427', '12323', '17249', '10659', '9766', '29268', '12031', '10878', '13961', '6095', '10114', '9491', '14825', '10776']\n",
      "['3', 'FuFu', 'FALSE', '3-3', '6417', '5533', '5511', '5387', '6675', '13346', '2600', '4203', '11135', '4997', '5784', '4441', '1344', '7478', '5730', '5574', '4909', '4917', '5346', '2587', '864', '5798', '', '', '', '', '', '']\n",
      "['3', 'FuFu', 'TRUE', '3-4', '5880', '6581', '6684', '7637', '7121', '9391', '8570', '5113', '5311', '6540', '8760', '5984', '9776', '18540', '6338', '1451', '8154', '8684', '3450', '7581', '1009', '9872', '2955', '7573', '3625', '7803', '4745', '12397']\n",
      "['3', 'FuFu', 'FALSE', '3-5', '10253', '15607', '13199', '9301', '4454', '9617', '17029', '5707', '13846', '2920', '8404', '7902', '14862', '11451', '5524', '12376', '3877', '3292', '5777', '18027', '4993', '4164', '3864', '3352', '5394', '7619', '11782', '7354']\n",
      "['4', 'Tears for Beers', 'FALSE', '4-1', '7939', '10436', '10016', '11675', '10172', '3031', '4198', '9660', '9913', '9232', '10013', '8458', '15437', '4567', '9216', '8923', '11160', '8613', '7647', '17194', '2640', '11169', '8310', '9063', '5092', '9911', '9579', '5141']\n",
      "['4', 'Tears for Beers', 'FALSE', '4-2', '12245', '16122', '17693', '17559', '12073', '20075', '21664', '16023', '15047', '13062', '18071', '12148', '20050', '20250', '15143', '20149', '15824', '8631', '4038', '12276', '11189', '10364', '8752', '9512', '4009', '1697', '8570', '12475']\n",
      "['4', 'Tears for Beers', 'FALSE', '4-3', '12163', '11523', '11513', '11265', '10529', '15205', '9225', '17292', '7827', '5877', '7204', '1187', '4247', '9816', '4249', '6263', '11811', '10033', '5103', '9400', '5531', '5232', '5343', '6545', '7304', '6948', '6851', '6544']\n",
      "['4', 'Tears for Beers', 'TRUE', '4-4', '7738', '7945', '10118', '14123', '7419', '13876', '10984', '10541', '6813', '13280', '8546', '10061', '8781', '10156', '8471', '7176', '12615', '8851', '9140', '12124', '7460', '7204', '11706', '8236', '7904', '7634', '13509', '10148']\n",
      "['4', 'Tears for Beers', 'FALSE', '4-5', '12147', '11044', '8222', '10329', '12587', '14599', '17994', '7998', '8765', '9986', '10015', '12588', '14578', '14696', '12699', '10784', '12547', '10567', '12233', '15465', '17865', '12782', '11204', '10478', '10210', '10112', '14326', '13872']\n",
      "['5', 'Stop when you drop!!', 'FALSE', '5-1', '13456', '16345', '24148', '13935', '15823', '25813', '10184', '8235', '12613', '9756', '12347', '8970', '16087', '24551', '6727', '14987', '15110', '13559', '6370', '15573', '28652', '19596', '10828', '6208', '8625', '10254', '17535', '22548']\n",
      "['5', 'Stop when you drop!!', 'FALSE', '5-2', '3971', '19162', '13951', '11250', '18714', '22412', '8331', '12189', '10520', '14587', '9236', '16523', '22352', '6735', '5475', '18986', '19550', '18424', '7441', '20635', '5211', '8842', '8723', '17540', '14432', '4322', '9084', '16967']\n",
      "['5', 'Stop when you drop!!', 'TRUE', '5-3', '15258', '13228', '21081', '16018', '12051', '22600', '16318', '20515', '15786', '7651', '11486', '6903', '11496', '12622', '10896', '4524', '7345', '9667', '9298', '8496', '6920', '10885', '13197', '12844', '6631', '6631', '11743', '9893']\n",
      "['5', 'Stop when you drop!!', 'FALSE', '5-4', '9543', '6841', '18354', '4692', '5321', '11223', '4118', '7915', '18944', '7721', '8806', '6558', '10716', '5116', '16095', '4861', '7120', '3905', '5130', '7338', '9504', '15537', '6318', '5150', '4750', '9762', '15252', '20402']\n",
      "['5', 'Stop when you drop!!', 'FALSE', '5-5', '16282', '17272', '24476', '21552', '20047', '16551', '31193', '19910', '20372', '11875', '15050', '17220', '15057', '4359', '13051', '4811', '6434', '14606', '13664', '6377', '', '5826', '12442', '11424', '6748', '4113', '5231', '2216']\n",
      "['6', 'Cereal Killers', 'FALSE', '6-1', '13102', '3899', '11686', '9117', '9604', '6122', '9132', '11003', '10977', '9759', '10384', '7930', '12262', '9049', '10360', '12407', '9855', '12978', '11971', '9023', '3750', '11296', '10166', '13256', '9115', '12496', '8253', '2760']\n",
      "['6', 'Cereal Killers', 'TRUE', '6-2', '8119', '23499', '22174', '6198', '13065', '4938', '23287', '6415', '18277', '6294', '23769', '8718', '15024', '12190', '6679', '7361', '13250', '10300', '11750', '1935', '114', '17011', '14604', '9177', '8280', '32035', '6594', '5435']\n",
      "['6', 'Cereal Killers', 'FALSE', '6-3', '12819', '17054', '9163', '13879', '11081', '9872', '5298', '9083', '7637', '10210', '3915', '12100', '8381', '12513', '12234', '7203', '7705', '8239', '12340', '8513', '5333', '6976', '12594', '12171', '7395', '12270', '6070', '6766']\n",
      "['6', 'Cereal Killers', 'FALSE', '6-4', '8567', '10597', '12208', '11365', '12438', '9295', '11322', '9927', '13082', '4988', '3952', '16232', '13586', '10556', '7450', '2750', '9192', '3694', '5227', '6607', '5675', '9301', '10122', '10597', '5585', '11885', '11442', '8164']\n",
      "['6', 'Cereal Killers', 'FALSE', '6-5', '11431', '7524', '1804', '3278', '5259', '478', '572', '2486', '591', '6229', '510', '452', '3510', '4264', '13730', '11237', '7762', '5017', '10111', '12069', '11256', '14321', '16035', '17249', '6513', '10521', '6482', '10462']\n",
      "['7', 'Here come the hotsteppers', 'FALSE', '7-1', '10145', '8192', '5891', '8767', '3520', '15095', '6447', '10646', '9551', '4450', '8940', '11440', '14548', '16870', '14387', '6871', '14836', '7920', '10392', '6279', '10396', '12529', '7320', '7166', '11180', '11469', '5781', '5395']\n",
      "['7', 'Here come the hotsteppers', 'TRUE', '7-2', '16943', '9732', '13055', '17456', '16023', '10000', '10000', '7500', '8564', '11468', '13681', '10651', '15730', '5623', '11276', '8527', '7054', '5376', '', '', '', '', '', '', '', '', '', '']\n",
      "['7', 'Here come the hotsteppers', 'FALSE', '7-3', '5887', '7253', '7630', '357', '5260', '2514', '6713', '7392', '6131', '4091', '8748', '6961', '1920', '3659', '5992', '4367', '6116', '5069', '7651', '6488', '3654', '', '', '', '', '', '', '']\n",
      "['7', 'Here come the hotsteppers', 'FALSE', '7-4', '8787', '3645', '2451', '4870', '14194', '13205', '16094', '10705', '11265', '6744', '19452', '8292', '15081', '16662', '12055', '8060', '11723', '7747', '9890', '20457', '14503', '13277', '15317', '11760', '', '', '', '']\n",
      "['7', 'Here come the hotsteppers', 'FALSE', '7-5', '13894', '7846', '12913', '14628', '10970', '12436', '21343', '7474', '5897', '6069', '5661', '8553', '10147', '12193', '5868', '7372', '3012', '5396', '8838', '18620', '5976', '9278', '5233', '6914', '7025', '10115', '6466', '2034']\n",
      "['8', 'The Slimsons', 'FALSE', '8-1', '8109', '9082', '13108', '13018', '15075', '9432', '7249', '8157', '17789', '8718', '10439', '6089', '7686', '6765', '7213', '7895', '4048', '4894', '5268', '7490', '16022', '11312', '9331', '', '', '', '', '']\n",
      "['8', 'The Slimsons', 'FALSE', '8-2', '8033', '14310', '11870', '6060', '14943', '18301', '20067', '14313', '12817', '9663', '7019', '10470', '11067', '12947', '16712', '2741', '7807', '9777', '8669', '5797', '4955', '8885', '7779', '6615', '7430', '22289', '5114', '4729']\n",
      "['8', 'The Slimsons', 'TRUE', '8-3', '8236', '17181', '17212', '11077', '20700', '12917', '15865', '10977', '20319', '8746', '27278', '22979', '23179', '16674', '26491', '16767', '16612', '21058', '17953', '22308', '7878', '8558', '7966', '7680', '19611', '9970', '4038', '3855']\n",
      "['8', 'The Slimsons', 'FALSE', '8-4', '9995', '13053', '10199', '6623', '15393', '9114', '12181', '11687', '20726', '7612', '6087', '13084', '7231', '8523', '5983', '7398', '5386', '8010', '2817', '4327', '8563', '10233', '7549', '9427', '14697', '16650', '14896', '18538']\n",
      "['8', 'The Slimsons', 'FALSE', '8-5', '8791', '13771', '11689', '13279', '19075', '6552', '16135', '6129', '19291', '7152', '8578', '16229', '4185', '11793', '7254', '8628', '6082', '8727', '5910', '8549', '10115', '6338', '9795', '8297', '16489', '9431', '1056', '0']\n",
      "['9', 'Just Step It', 'TRUE', '9-1', '10034', '3760', '7760', '11163', '8742', '16263', '10974', '5539', '4574', '5094', '6823', '5601', '3248', '4429', '4747', '3421', '6752', '3362', '5029', '6359', '8288', '5404', '4185', '3207', '9564', '', '', '']\n",
      "['9', 'Just Step It', 'FALSE', '9-2', '5675', '5810', '6213', '7241', '10517', '5463', '7476', '9640', '7811', '5914', '9456', '6868', '7882', '3081', '5410', '6698', '5703', '6559', '6300', '5788', '5899', '6068', '5156', '8025', '', '', '', '']\n",
      "['9', 'Just Step It', 'FALSE', '9-3', '3000', '3000', '22455', '10025', '25172', '31083', '30625', '5763', '5786', '20616', '26578', '22597', '27231', '41022', '5005', '4038', '4580', '4880', '4756', '10621', '16228', '10621', '', '', '', '', '', '']\n",
      "['9', 'Just Step It', 'FALSE', '9-4', '18156', '11325', '10558', '10250', '4779', '10306', '11194', '10354', '10043', '18707', '5377', '3637', '7361', '6130', '10132', '5584', '3008', '3000', '3000', '3000', '3648', '7426', '3298', '3000', '13294', '3000', '6942', '3219']\n",
      "['9', 'Just Step It', 'FALSE', '9-5', '9289', '11127', '7493', '12086', '9434', '5587', '12809', '4218', '8523', '4857', '12124', '12487', '10326', '13193', '6258', '8054', '8401', '14944', '6125', '10941', '3036', '8284', '7443', '7211', '10226', '13204', '9202', '11593']\n",
      "['10', 'Will Walk for Wine', 'FALSE', '10-1', '7225', '9003', '11590', '10223', '8881', '5581', '18571', '7729', '10394', '5861', '6939', '11675', '15074', '12648', '27636', '12412', '16394', '24695', '22917', '24080', '2399', '10738', '9201', '8885', '7316', '6112', '2889', '5107']\n",
      "['10', 'Will Walk for Wine', 'TRUE', '10-2', '10642', '10093', '11372', '12617', '13569', '11525', '20055', '10453', '10017', '4104', '13311', '12038', '10074', '10032', '10191', '10066', '10018', '10046', '10210', '12580', '10279', '10144', '12241', '10251', '10037', '10094', '11876', '9986']\n",
      "['10', 'Will Walk for Wine', 'FALSE', '10-3', '7306', '7817', '8805', '7900', '7938', '5035', '5066', '7367', '6477', '2944', '5466', '6529', '303', '359', '6655', '6483', '7883', '7535', '5068', '4203', '2940', '7747', '8025', '6823', '7763', '6067', '4476', '1653']\n",
      "['10', 'Will Walk for Wine', 'FALSE', '10-4', '4747', '4867', '10397', '6835', '7188', '6945', '10353', '6346', '4851', '3150', '3392', '5013', '7885', '9959', '7749', '11921', '10750', '5167', '5524', '9723', '9509', '4515', '6710', '6251', '7667', '6685', '4856', '4533']\n",
      "['10', 'Will Walk for Wine', 'FALSE', '10-5', '4670', '3127', '12470', '7600', '11795', '2464', '21638', '2489', '8548', '3263', '4534', '8335', '6405', '5968', '6565', '7086', '4970', '4925', '2747', '117', '4958', '5866', '7426', '7482', '7113', '7034', '41', '2879']\n",
      "['11', '11,111 to No. 1', 'TRUE', '11-1', '8427', '12787', '8874', '2461', '7452', '4651', '10274', '3159', '11091', '7308', '6930', '11018', '14046', '10175', '6140', '1356', '10350', '4472', '6949', '290', '320', '9170', '8818', '7976', '7254', '6187', '391', '631']\n",
      "['11', '11,111 to No. 1', 'FALSE', '11-2', '9564', '20150', '14381', '11193', '9935', '13645', '7322', '12583', '9345', '10315', '10313', '8434', '15413', '15697', '8406', '9103', '16007', '13331', '11064', '10292', '15206', '7785', '9237', '15394', '8310', '12262', '6424', '11662']\n",
      "['11', '11,111 to No. 1', 'FALSE', '11-3', '8113', '8284', '16480', '6973', '11010', '10198', '14194', '12149', '8378', '5354', '11963', '15565', '16121', '14949', '12832', '9286', '8482', '7451', '9049', '15046', '7567', '7913', '9968', '11133', '5477', '7267', '10463', '8110']\n",
      "['11', '11,111 to No. 1', 'FALSE', '11-4', '4470', '4732', '4867', '7381', '10515', '16934', '15521', '11002', '14643', '8035', '7559', '7654', '6556', '16130', '6284', '4887', '2998', '4882', '6383', '24020', '10980', '7981', '4359', '5848', '5719', '4849', '6039', '9757']\n",
      "['11', '11,111 to No. 1', 'FALSE', '11-5', '12606', '12262', '14032', '8168', '15062', '11900', '12303', '12367', '15602', '7699', '12712', '13149', '12643', '14047', '15516', '11375', '17796', '12161', '11415', '17771', '12167', '10954', '15957', '16303', '9705', '7801', '9670', '9916']\n",
      "['12', 'Scrambled Legs', 'FALSE', '12-1', '11991', '9667', '13554', '8850', '14501', '13410', '8602', '8392', '6561', '3495', '16835', '10112', '13969', '7485', '8185', '4650', '4225', '7035', '8916', '21197', '11125', '13844', '6841', '9342', '11225', '14178', '9427', '5992']\n",
      "['12', 'Scrambled Legs', 'FALSE', '12-2', '11332', '11521', '12724', '8321', '11017', '10108', '11127', '10435', '11337', '8924', '15056', '10356', '8089', '12404', '6467', '13215', '16540', '9814', '13567', '9236', '8549', '8545', '10497', '12881', '9662', '8118', '9053', '7126']\n",
      "['12', 'Scrambled Legs', 'FALSE', '12-3', '7124', '9454', '12046', '10157', '5624', '9497', '11185', '10071', '8034', '17204', '8928', '11015', '13476', '9783', '18438', '16493', '10752', '9540', '12459', '11878', '12261', '12328', '15103', '6192', '11252', '17204', '10091', '8773']\n",
      "['12', 'Scrambled Legs', 'FALSE', '12-4', '5188', '5299', '8748', '5592', '6689', '7241', '4196', '5785', '11555', '9412', '7613', '8607', '7486', '15907', '7465', '6355', '7842', '4978', '7625', '2285', '7069', '6787', '8142', '6550', '5499', '5913', '5298', '5735']\n",
      "['12', 'Scrambled Legs', 'TRUE', '12-5', '20592', '19092', '20154', '17551', '10438', '19226', '14786', '24248', '24577', '21135', '21846', '14786', '16138', '343', '21853', '22762', '20615', '4110', '6299', '3435', '2078', '5960', '13194', '6922', '7970', '7444', '8126', '11797']\n",
      "['13', 'Smarty Pints', 'FALSE', '13-1', '10003', '11253', '24000', '6650', '13027', '9134', '6674', '19353', '4179', '6765', '9252', '4051', '5984', '1722', '5879', '4299', '4317', '4080', '3240', '9055', '2312', '3967', '2834', '6517', '7766', '3318', '5807', '5114']\n",
      "['13', 'Smarty Pints', 'FALSE', '13-2', '10166', '7333', '13278', '7034', '12428', '4152', '4762', '20641', '17698', '23264', '24754', '21951', '19814', '10297', '', '', '', '', '', '', '', '', '', '', '', '', '', '']\n",
      "['13', 'Smarty Pints', 'FALSE', '13-3', '9311', '4711', '11085', '4426', '1635', '1495', '16395', '18993', '9371', '13832', '11324', '10242', '14231', '5772', '10262', '12526', '', '', '', '', '', '', '', '', '', '', '', '']\n",
      "['13', 'Smarty Pints', 'TRUE', '13-4', '13880', '17436', '18092', '18089', '19117', '12453', '7883', '7795', '16531', '6200', '8882', '7822', '8253', '7731', '18922', '21463', '14563', '13433', '10143', '5678', '4527', '22371', '16636', '', '', '', '', '']\n",
      "['13', 'Smarty Pints', 'FALSE', '13-5', '6229', '8772', '6815', '9598', '5169', '8327', '11633', '5098', '7396', '3013', '9215', '8513', '4402', '10973', '4923', '5118', '8616', '4693', '16140', '6760', '7153', '3818', '7159', '4197', '12842', '8780', '8294', '']\n",
      "['14', '', 'FALSE', '14-1', '7665', '13442', '15127', '10702', '11158', '16580', '12752', '7429', '14176', '4692', '16287', '10416', '14343', '13534', '3823', '12855', '11594', '13175', '4116', '20587', '4248', '11269', '5594', '17626', '10839', '13391', '23290', '10965']\n",
      "['14', '', 'FALSE', '14-2', '', '6076', '8365', '13014', '16050', '7265', '8690', '12492', '10100', '8352', '14117', '14317', '15684', '4678', '17677', '15898', '3564', '16544', '12659', '10634', '2065', '18566', '6632', '9739', '16554', '10234', '1055', '8066']\n",
      "['14', '', 'FALSE', '14-3', '11328', '4887', '5037', '13627', '6243', '14736', '5100', '11238', '4886', '3964', '5764', '10180', '3259', '6302', '4537', '7275', '78', '2969', '1989', '11312', '5910', '', '', '', '', '', '', '']\n",
      "['14', '', 'FALSE', '14-4', '942', '7664', '2600', '10054', '', '7397', '', '', '', '15585', '15000', '11000', '', '', '', '', '', '', '', '', '', '', '', '', '', '', '', '']\n",
      "['14', '', 'FALSE', '14-5', '3175', '3853', '4174', '6633', '1553', '1675', '3265', '4693', '2987', '4383', '2640', '922', '2791', '4261', '4999', '3032', '4678', '3701', '5082', '5665', '6311', '3983', '2954', '3960', '3343', '3862', '6578', '3139']\n"
     ]
    }
   ],
   "source": [
    "#Step 1\n",
    "import csv\n",
    "\n",
    "#Step 2\n",
    "file = open(\"Biggest Loser 2018.csv\")\n",
    "\n",
    "#Step 3\n",
    "reader = csv.reader(file)\n",
    "for row in reader:\n",
    "    print(row)"
   ]
  },
  {
   "cell_type": "markdown",
   "metadata": {},
   "source": [
    "### Bar Chart\n",
    "Definition: It represents the categories as the rectangular bars with height (for vertical bar chart) or length (for horizontal bar chart) proportional to the values.\n",
    "\n",
    "<b>Case 1: The most active day of week</b>\n",
    "<p>Requirement: Day of Week and Total Steps to create the bar chart. \n",
    "Day of week as the category and for each day of week, we sum the total steps.</p>\n",
    "\n",
    "Steps to create bar chart:\n",
    "1. Create a new dataframe from the file. Use pandas library and [read_csv function()](https://pandas.pydata.org/pandas-docs/stable/generated/pandas.read_csv.html) to easily manipulate the data.\n",
    "2. Transpose the Date column into row. Use [melt function() on pandas](https://pandas.pydata.org/pandas-docs/stable/generated/pandas.melt.html).\n",
    "3. Add a new column to identify the day of week from the dates (e.g.: Sunday, Monday, etc.). Use [to_datetime() function](https://pandas.pydata.org/pandas-docs/stable/generated/pandas.to_datetime.html) to ensure that the \"Date\" column is in the datetime format. Use [dt.weekday_name property](http://pandas.pydata.org/pandas-docs/version/0.22/generated/pandas.Series.dt.dayofweek.html) to get the weekday name.\n",
    "4. Sum the steps in each day of week. Use [groupby() function](https://pandas.pydata.org/pandas-docs/stable/generated/pandas.DataFrame.groupby.html) and [sum() function](https://pandas.pydata.org/pandas-docs/stable/generated/pandas.DataFrame.sum.html) to summarize the total steps by day of week.\n",
    "5. Sort the total steps in descending order. Use [sort_values() function](https://pandas.pydata.org/pandas-docs/stable/generated/pandas.DataFrame.sort_values.html).\n",
    "6. Plot the dataframe as bar chart using [plot.bar() function](http://pandas.pydata.org/pandas-docs/version/0.22/generated/pandas.DataFrame.plot.bar.html). "
   ]
  },
  {
   "cell_type": "code",
   "execution_count": 199,
   "metadata": {},
   "outputs": [
    {
     "data": {
      "text/html": [
       "<div>\n",
       "<style scoped>\n",
       "    .dataframe tbody tr th:only-of-type {\n",
       "        vertical-align: middle;\n",
       "    }\n",
       "\n",
       "    .dataframe tbody tr th {\n",
       "        vertical-align: top;\n",
       "    }\n",
       "\n",
       "    .dataframe thead th {\n",
       "        text-align: right;\n",
       "    }\n",
       "</style>\n",
       "<table border=\"1\" class=\"dataframe\">\n",
       "  <thead>\n",
       "    <tr style=\"text-align: right;\">\n",
       "      <th></th>\n",
       "      <th>Total Steps</th>\n",
       "    </tr>\n",
       "    <tr>\n",
       "      <th>Day of Week</th>\n",
       "      <th></th>\n",
       "    </tr>\n",
       "  </thead>\n",
       "  <tbody>\n",
       "    <tr>\n",
       "      <th>Saturday</th>\n",
       "      <td>2722945.0</td>\n",
       "    </tr>\n",
       "    <tr>\n",
       "      <th>Tuesday</th>\n",
       "      <td>2656376.0</td>\n",
       "    </tr>\n",
       "    <tr>\n",
       "      <th>Monday</th>\n",
       "      <td>2643579.0</td>\n",
       "    </tr>\n",
       "    <tr>\n",
       "      <th>Thursday</th>\n",
       "      <td>2610982.0</td>\n",
       "    </tr>\n",
       "    <tr>\n",
       "      <th>Wednesday</th>\n",
       "      <td>2581746.0</td>\n",
       "    </tr>\n",
       "    <tr>\n",
       "      <th>Friday</th>\n",
       "      <td>2547392.0</td>\n",
       "    </tr>\n",
       "    <tr>\n",
       "      <th>Sunday</th>\n",
       "      <td>2485167.0</td>\n",
       "    </tr>\n",
       "  </tbody>\n",
       "</table>\n",
       "</div>"
      ],
      "text/plain": [
       "             Total Steps\n",
       "Day of Week             \n",
       "Saturday       2722945.0\n",
       "Tuesday        2656376.0\n",
       "Monday         2643579.0\n",
       "Thursday       2610982.0\n",
       "Wednesday      2581746.0\n",
       "Friday         2547392.0\n",
       "Sunday         2485167.0"
      ]
     },
     "execution_count": 199,
     "metadata": {},
     "output_type": "execute_result"
    }
   ],
   "source": [
    "#Step 1\n",
    "import pandas as pd\n",
    "bl2018 = pd.read_csv(\"Biggest Loser 2018.csv\")\n",
    "\n",
    "#Step 2\n",
    "date_col = list(bl2018.columns.values)[4:] #Get the column name for date only (starting from 4th column)\n",
    "bardf = pd.melt(bl2018, value_vars=date_col, var_name=\"Date\", value_name=\"Total Steps\")\n",
    "\n",
    "#Step 3\n",
    "bardf[\"Date\"] = pd.to_datetime(bardf[\"Date\"])\n",
    "bardf[\"Day of Week\"] = bardf[\"Date\"].dt.weekday_name\n",
    "\n",
    "#Step 4\n",
    "bardf = bardf.groupby(\"Day of Week\").sum()\n",
    "\n",
    "#Step 5\n",
    "bardf = bardf.sort_values(by=[\"Total Steps\"], ascending=[False])\n",
    "\n",
    "bardf"
   ]
  },
  {
   "cell_type": "code",
   "execution_count": 174,
   "metadata": {
    "scrolled": true
   },
   "outputs": [
    {
     "data": {
      "text/plain": [
       "<matplotlib.axes._subplots.AxesSubplot at 0x1184782b0>"
      ]
     },
     "execution_count": 174,
     "metadata": {},
     "output_type": "execute_result"
    },
    {
     "data": {
      "image/png": "[encoded data removed]",
      "text/plain": [
       "<matplotlib.figure.Figure at 0x1184161d0>"
      ]
     },
     "metadata": {},
     "output_type": "display_data"
    }
   ],
   "source": [
    "#Step 6\n",
    "barchartdf.plot.bar()"
   ]
  },
  {
   "cell_type": "markdown",
   "metadata": {},
   "source": [
    "Homework:\n",
    "1. Create vertical bar chart with the team_name category for Saturday only.\n",
    "2. Create horizontal bar chart using [barh() function](http://pandas.pydata.org/pandas-docs/version/0.22/generated/pandas.DataFrame.plot.barh.html)."
   ]
  },
  {
   "cell_type": "markdown",
   "metadata": {},
   "source": [
    "### Histogram\n",
    "Definition: It is similar to bar chart but it groups numbers into ranges to show distributions of variables.\n",
    "<p>Use cases: Salary, test scores, weight</p>\n",
    "\n",
    "<b>Case 2: The daily steps distribution</b>\n",
    "\n",
    "Requirement: Daily steps of each participants throughout the Big Loser period. \n",
    "\n",
    "Steps to create histogram:\n",
    "1. Create a new dataframe from the file. Use pandas library and [read_csv function()](https://pandas.pydata.org/pandas-docs/stable/generated/pandas.read_csv.html) to easily manipulate the data.\n",
    "2. Transpose the Date column into row. Use [melt function() on pandas](https://pandas.pydata.org/pandas-docs/stable/generated/pandas.melt.html).\n",
    "3. Determine the number of bins. If you want to refine the number of bins, please refer to [Wikipedia's Histogram document](https://en.wikipedia.org/wiki/Histogram#Number_of_bins_and_width) as this is beyond our discussion here.\n",
    "4. Plot histogram of the dataframe. Use [plot.hist() function](http://pandas.pydata.org/pandas-docs/version/0.22/generated/pandas.DataFrame.hist.html)."
   ]
  },
  {
   "cell_type": "code",
   "execution_count": 200,
   "metadata": {
    "scrolled": true
   },
   "outputs": [
    {
     "data": {
      "text/plain": [
       "<matplotlib.axes._subplots.AxesSubplot at 0x118c79dd8>"
      ]
     },
     "execution_count": 200,
     "metadata": {},
     "output_type": "execute_result"
    },
    {
     "data": {
      "image/png": "[encoded data removed]",
      "text/plain": [
       "<matplotlib.figure.Figure at 0x118b4ed30>"
      ]
     },
     "metadata": {},
     "output_type": "display_data"
    }
   ],
   "source": [
    "#Step 2\n",
    "histdf = pd.melt(bl2018, value_vars=date_col, value_name=\"Total Steps\")\n",
    "\n",
    "#Step 4\n",
    "histdf[\"Total Steps\"].plot.hist(bins=50)"
   ]
  },
  {
   "cell_type": "markdown",
   "metadata": {},
   "source": [
    "Homework:\n",
    "1. Change the number of bins and observe the differences.\n",
    "2. Create one histogram of any team and compare it with the histogram of the overall groups above. "
   ]
  },
  {
   "cell_type": "markdown",
   "metadata": {},
   "source": [
    "### Pie Chart\n",
    "Definition: A circle with slices represent the numerical proportion to the whole. Also known share of voices.\n",
    "\n",
    "<b>Case 3: Teams' steps contribution</b>\n",
    "\n",
    "Requirement: Total steps of each team.\n",
    "\n",
    "Steps to create pie chart:\n",
    "1. Create a new dataframe from the file. Use pandas library and [read_csv function()](https://pandas.pydata.org/pandas-docs/stable/generated/pandas.read_csv.html) to easily manipulate the data.\n",
    "2. Transpose the Date column into row. Use [melt function() on pandas](https://pandas.pydata.org/pandas-docs/stable/generated/pandas.melt.html).\n",
    "3. Sum the steps in each day of week. Use [groupby() function](https://pandas.pydata.org/pandas-docs/stable/generated/pandas.DataFrame.groupby.html) and [sum() function](https://pandas.pydata.org/pandas-docs/stable/generated/pandas.DataFrame.sum.html) to summarize the total steps by day of week.\n",
    "4. Sort the total steps in descending order. Use [sort_values() function](https://pandas.pydata.org/pandas-docs/stable/generated/pandas.DataFrame.sort_values.html).\n",
    "5. Plot the dataframe as pie chart using [plot.pie() function](https://pandas.pydata.org/pandas-docs/version/0.18/generated/pandas.DataFrame.plot.pie.html)."
   ]
  },
  {
   "cell_type": "code",
   "execution_count": 202,
   "metadata": {},
   "outputs": [
    {
     "data": {
      "text/html": [
       "<div>\n",
       "<style scoped>\n",
       "    .dataframe tbody tr th:only-of-type {\n",
       "        vertical-align: middle;\n",
       "    }\n",
       "\n",
       "    .dataframe tbody tr th {\n",
       "        vertical-align: top;\n",
       "    }\n",
       "\n",
       "    .dataframe thead th {\n",
       "        text-align: right;\n",
       "    }\n",
       "</style>\n",
       "<table border=\"1\" class=\"dataframe\">\n",
       "  <thead>\n",
       "    <tr style=\"text-align: right;\">\n",
       "      <th></th>\n",
       "      <th>Total Steps</th>\n",
       "    </tr>\n",
       "    <tr>\n",
       "      <th>Team Name</th>\n",
       "      <th></th>\n",
       "    </tr>\n",
       "  </thead>\n",
       "  <tbody>\n",
       "    <tr>\n",
       "      <th>TBD</th>\n",
       "      <td>1820997.0</td>\n",
       "    </tr>\n",
       "    <tr>\n",
       "      <th>Stop when you drop!!</th>\n",
       "      <td>1721534.0</td>\n",
       "    </tr>\n",
       "    <tr>\n",
       "      <th>The Slimsons</th>\n",
       "      <td>1484755.0</td>\n",
       "    </tr>\n",
       "    <tr>\n",
       "      <th>Scrambled Legs</th>\n",
       "      <td>1480327.0</td>\n",
       "    </tr>\n",
       "    <tr>\n",
       "      <th>Tears for Beers</th>\n",
       "      <td>1468397.0</td>\n",
       "    </tr>\n",
       "    <tr>\n",
       "      <th>11,111 to No. 1</th>\n",
       "      <td>1395549.0</td>\n",
       "    </tr>\n",
       "    <tr>\n",
       "      <th>Cereal Killers</th>\n",
       "      <td>1333977.0</td>\n",
       "    </tr>\n",
       "    <tr>\n",
       "      <th>FuFu</th>\n",
       "      <td>1198137.0</td>\n",
       "    </tr>\n",
       "    <tr>\n",
       "      <th>Will Walk for Wine</th>\n",
       "      <td>1158732.0</td>\n",
       "    </tr>\n",
       "    <tr>\n",
       "      <th>Just Step It</th>\n",
       "      <td>1128860.0</td>\n",
       "    </tr>\n",
       "    <tr>\n",
       "      <th>Here come the hotsteppers</th>\n",
       "      <td>1107342.0</td>\n",
       "    </tr>\n",
       "    <tr>\n",
       "      <th>Smarty Pints</th>\n",
       "      <td>1055281.0</td>\n",
       "    </tr>\n",
       "    <tr>\n",
       "      <th>Sole Striders</th>\n",
       "      <td>954382.0</td>\n",
       "    </tr>\n",
       "  </tbody>\n",
       "</table>\n",
       "</div>"
      ],
      "text/plain": [
       "                           Total Steps\n",
       "Team Name                             \n",
       "TBD                          1820997.0\n",
       "Stop when you drop!!         1721534.0\n",
       "The Slimsons                 1484755.0\n",
       "Scrambled Legs               1480327.0\n",
       "Tears for Beers              1468397.0\n",
       "11,111 to No. 1              1395549.0\n",
       "Cereal Killers               1333977.0\n",
       "FuFu                         1198137.0\n",
       "Will Walk for Wine           1158732.0\n",
       "Just Step It                 1128860.0\n",
       "Here come the hotsteppers    1107342.0\n",
       "Smarty Pints                 1055281.0\n",
       "Sole Striders                 954382.0"
      ]
     },
     "execution_count": 202,
     "metadata": {},
     "output_type": "execute_result"
    }
   ],
   "source": [
    "#Step 2\n",
    "piedf = pd.melt(bl2018, id_vars=[\"team_name\"], value_vars=date_col)\n",
    "piedf.columns = [\"Team Name\", \"Date\", \"Total Steps\"]\n",
    "\n",
    "#Step 3\n",
    "piedf = piedf.groupby(\"Team Name\").sum()\n",
    "\n",
    "#Step 4\n",
    "piedf = piedf.sort_values(by=[\"Total Steps\"], ascending=[False])\n",
    "\n",
    "piedf"
   ]
  },
  {
   "cell_type": "code",
   "execution_count": 203,
   "metadata": {},
   "outputs": [
    {
     "data": {
      "text/plain": [
       "<matplotlib.axes._subplots.AxesSubplot at 0x1190a9438>"
      ]
     },
     "execution_count": 203,
     "metadata": {},
     "output_type": "execute_result"
    },
    {
     "data": {
      "image/png": "[encoded data removed]",
      "text/plain": [
       "<matplotlib.figure.Figure at 0x118ebc3c8>"
      ]
     },
     "metadata": {},
     "output_type": "display_data"
    }
   ],
   "source": [
    "#Step 5\n",
    "piedf.plot.pie(y=\"Total Steps\", legend=False, autopct='%.2f')"
   ]
  },
  {
   "cell_type": "code",
   "execution_count": null,
   "metadata": {},
   "outputs": [],
   "source": []
  }
 ],
 "metadata": {
  "kernelspec": {
   "display_name": "Python 3",
   "language": "python",
   "name": "python3"
  },
  "language_info": {
   "codemirror_mode": {
    "name": "ipython",
    "version": 3
   },
   "file_extension": ".py",
   "mimetype": "text/x-python",
   "name": "python",
   "nbconvert_exporter": "python",
   "pygments_lexer": "ipython3",
   "version": "3.6.4"
  }
 },
 "nbformat": 4,
 "nbformat_minor": 2
}
