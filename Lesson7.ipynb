{
 "cells": [
  {
   "cell_type": "markdown",
   "metadata": {},
   "source": [
    "# Lesson 7 Overview\n",
    "\n",
    "1. Charts\n",
    "2. Bar chart\n",
    "3. Histogram\n",
    "4. Pie chart\n",
    "5. Time series"
   ]
  },
  {
   "cell_type": "markdown",
   "metadata": {},
   "source": [
    "## Let's load today's lesson!\n",
    "\n",
    "### Open Azure Notebooks library \n",
    "\n",
    "Go to https://notebooks.azure.com -> Sign in if needed -> Select **python-codeacademy-sg**\n",
    "\n",
    "### Update lesson file to latest version\n",
    "\n",
    "Select **New** -> **From URL** -> input https://raw.githubusercontent.com/viettrung9012/python-codeacademy-sg/master/Lesson7.ipynb (URL is available in **Lesson7.ipynb**) -> Click outside input then select **Upload** (overwrite if needed)\n",
    "\n",
    "### Open Jupyter lab\n",
    "\n",
    "From your browser's bookmark or **Run** -> Change browser URL path from **/nb/tree** to **/nb/lab**\n",
    "\n",
    "Select **Lesson7.ipynb**"
   ]
  },
  {
   "cell_type": "markdown",
   "metadata": {},
   "source": [
    "## Charts\n",
    "A chart is a visual representation of the data and it allows its readers to understand the information quicker than reading the raw data.\n",
    "\n",
    "Compare the data and the chart below, which one do you find easier to get <b>meaningful insights</b>?\n",
    "\n",
    "### Raw data \n",
    "- Source: [United Nations' Total Population data](https://esa.un.org/unpd/wpp/Download/Standard/Population/)\n",
    "- Total Population of both Sexes. De facto population in a country, area or region as of 1 July of the year indicated. Figures are presented in thousands.\n",
    "- Can you infer any insights from the data?\n",
    "![World Population](UNTotalPopulation.png)\n",
    "\n",
    "### Chart\n",
    "- Source: [Hans Rosling's Income-Life Expectancy relationship graph](https://www.gapminder.org/answers/how-does-income-relate-to-life-expectancy/)\n",
    "- Color shows the region: Africa (blue), Americas (green), Asia (red), Europe (yellow)\n",
    "- Bubble size indicates the size of population\n",
    "- So, what can we infer from the chart below? How does Africa compared to Asia?\n",
    "![Income-Life Expectancy](HansRosling.png)"
   ]
  },
  {
   "cell_type": "markdown",
   "metadata": {},
   "source": [
    "### Preparing Data\n",
    "We need to do the following steps to prepare the data before we transform them into the charts.\n",
    "1. Use csv library.\n",
    "2. Open the csv file.\n",
    "3. Read the csv file to determine how to transform the data to suit with the chart type. "
   ]
  },
  {
   "cell_type": "code",
   "execution_count": null,
   "metadata": {},
   "outputs": [],
   "source": [
    "#The following code is needed to run the graphs inline on the notebook\n",
    "%matplotlib inline\n",
    "\n",
    "#Step 1\n",
    "import csv\n",
    "\n",
    "#Step 2\n",
    "with open('Biggest Loser 2018.csv') as csvfile:\n",
    "\n",
    "    #Step 3\n",
    "    reader = csv.reader(csvfile)\n",
    "    for row in reader:\n",
    "        print(row)"
   ]
  },
  {
   "cell_type": "markdown",
   "metadata": {},
   "source": [
    "### Bar Chart\n",
    "Definition: It represents the categories as the rectangular bars with height (for vertical bar chart) or length (for horizontal bar chart) proportional to the values.\n",
    "\n",
    "<b>Case 1: The most active day of week</b>\n",
    "<p>Requirement: Day of Week and Total Steps to create the bar chart. \n",
    "Day of week as the category and for each day of week, we sum the total steps.</p>\n",
    "\n",
    "Steps to create bar chart:\n",
    "1. Create a new dataframe from the file. Use pandas library and [read_csv function()](https://pandas.pydata.org/pandas-docs/stable/generated/pandas.read_csv.html) to easily manipulate the data.\n",
    "2. Transpose the Date column into row. Use [melt function() on pandas](https://pandas.pydata.org/pandas-docs/stable/generated/pandas.melt.html).\n",
    "3. Add a new column to identify the day of week from the dates (e.g.: Sunday, Monday, etc.). Use [to_datetime() function](https://pandas.pydata.org/pandas-docs/stable/generated/pandas.to_datetime.html) to ensure that the \"Date\" column is in the datetime format. Use [dt.weekday_name property](http://pandas.pydata.org/pandas-docs/version/0.22/generated/pandas.Series.dt.dayofweek.html) to get the weekday name.\n",
    "4. Sum the steps in each day of week. Use [groupby() function](https://pandas.pydata.org/pandas-docs/stable/generated/pandas.DataFrame.groupby.html) and [sum() function](https://pandas.pydata.org/pandas-docs/stable/generated/pandas.DataFrame.sum.html) to summarize the total steps by day of week.\n",
    "5. Sort the total steps in descending order. Use [sort_values() function](https://pandas.pydata.org/pandas-docs/stable/generated/pandas.DataFrame.sort_values.html).\n",
    "6. Plot the dataframe as bar chart using [plot.bar() function](http://pandas.pydata.org/pandas-docs/version/0.22/generated/pandas.DataFrame.plot.bar.html). "
   ]
  },
  {
   "cell_type": "code",
   "execution_count": null,
   "metadata": {},
   "outputs": [],
   "source": [
    "#Step 1\n",
    "import pandas as pd\n",
    "bl2018 = pd.read_csv(\"Biggest Loser 2018.csv\")\n",
    "\n",
    "#Step 2\n",
    "date_col = list(bl2018.columns.values)[4:] #Get the column name for date only (starting from 4th column)\n",
    "bardf = pd.melt(bl2018, value_vars=date_col, var_name=\"Date\", value_name=\"Total Steps\")\n",
    "\n",
    "#Step 3\n",
    "bardf[\"Date\"] = pd.to_datetime(bardf[\"Date\"])\n",
    "bardf[\"Day of Week\"] = bardf[\"Date\"].dt.weekday_name\n",
    "\n",
    "#Step 4\n",
    "bardf = bardf.groupby(\"Day of Week\").sum()\n",
    "\n",
    "#Step 5\n",
    "bardf = bardf.sort_values(by=[\"Total Steps\"], ascending=[False])\n",
    "\n",
    "bardf"
   ]
  },
  {
   "cell_type": "code",
   "execution_count": null,
   "metadata": {
    "scrolled": true
   },
   "outputs": [],
   "source": [
    "#Step 6\n",
    "bardf.plot.bar()"
   ]
  },
  {
   "cell_type": "markdown",
   "metadata": {},
   "source": [
    "<b>Homework</b>\n",
    "1. Create vertical bar chart with the team_name category for Saturday only.\n",
    "2. Create horizontal bar chart using [barh() function](http://pandas.pydata.org/pandas-docs/version/0.22/generated/pandas.DataFrame.plot.barh.html)."
   ]
  },
  {
   "cell_type": "code",
   "execution_count": null,
   "metadata": {},
   "outputs": [],
   "source": [
    "#Write your code here\n",
    "\n",
    "#Homework 1\n",
    "\n",
    "#Homework 2"
   ]
  },
  {
   "cell_type": "markdown",
   "metadata": {},
   "source": [
    "### Histogram\n",
    "Definition: It is similar to bar chart but it groups numbers into ranges to show distributions of variables.\n",
    "<p>Use cases: Salary, test scores, weight</p>\n",
    "\n",
    "<b>Case 2: The daily steps distribution</b>\n",
    "\n",
    "Requirement: Daily steps of each participants throughout the Big Loser period. \n",
    "\n",
    "Steps to create histogram:\n",
    "1. Create a new dataframe from the file. Use pandas library and [read_csv function()](https://pandas.pydata.org/pandas-docs/stable/generated/pandas.read_csv.html) to easily manipulate the data.\n",
    "2. Transpose the Date column into row. Use [melt function() on pandas](https://pandas.pydata.org/pandas-docs/stable/generated/pandas.melt.html).\n",
    "3. Determine the number of bins. If you want to refine the number of bins, please refer to [Wikipedia's Histogram document](https://en.wikipedia.org/wiki/Histogram#Number_of_bins_and_width) as this is beyond our discussion here.\n",
    "4. Plot histogram of the dataframe. Use [plot.hist() function](http://pandas.pydata.org/pandas-docs/version/0.22/generated/pandas.DataFrame.hist.html)."
   ]
  },
  {
   "cell_type": "code",
   "execution_count": null,
   "metadata": {
    "scrolled": true
   },
   "outputs": [],
   "source": [
    "#Step 2\n",
    "histdf = pd.melt(bl2018, value_vars=date_col, value_name=\"Total Steps\")\n",
    "\n",
    "#Step 4\n",
    "histdf[\"Total Steps\"].plot.hist(bins=50)"
   ]
  },
  {
   "cell_type": "markdown",
   "metadata": {},
   "source": [
    "<b>Homework</b>\n",
    "1. Change the number of bins and observe the differences.\n",
    "2. Create one histogram of any team and compare it with the histogram of the overall groups above. "
   ]
  },
  {
   "cell_type": "code",
   "execution_count": null,
   "metadata": {},
   "outputs": [],
   "source": [
    "#Write your code here\n",
    "\n",
    "#Homework 1\n",
    "\n",
    "#Homework 2"
   ]
  },
  {
   "cell_type": "markdown",
   "metadata": {},
   "source": [
    "### Pie Chart\n",
    "Definition: A circle with slices represent the numerical proportion to the whole. Also known share of voices.\n",
    "\n",
    "<b>Case 3: Teams' steps contribution</b>\n",
    "\n",
    "Requirement: Total steps of each team.\n",
    "\n",
    "Steps to create pie chart:\n",
    "1. Create a new dataframe from the file. Use pandas library and [read_csv function()](https://pandas.pydata.org/pandas-docs/stable/generated/pandas.read_csv.html) to easily manipulate the data.\n",
    "2. Transpose the Date column into row. Use [melt function() on pandas](https://pandas.pydata.org/pandas-docs/stable/generated/pandas.melt.html). Note:  We need not to show the date column on the table; it is only being used to transpose the date column into row.\n",
    "3. Sum the steps in each day of week. Use [groupby() function](https://pandas.pydata.org/pandas-docs/stable/generated/pandas.DataFrame.groupby.html) and [sum() function](https://pandas.pydata.org/pandas-docs/stable/generated/pandas.DataFrame.sum.html) to summarize the total steps by day of week.\n",
    "4. Sort the total steps in descending order. Use [sort_values() function](https://pandas.pydata.org/pandas-docs/stable/generated/pandas.DataFrame.sort_values.html).\n",
    "5. Plot the dataframe as pie chart using [plot.pie() function](https://pandas.pydata.org/pandas-docs/version/0.18/generated/pandas.DataFrame.plot.pie.html)."
   ]
  },
  {
   "cell_type": "code",
   "execution_count": null,
   "metadata": {},
   "outputs": [],
   "source": [
    "#Step 2\n",
    "piedf = pd.melt(bl2018, id_vars=[\"team_name\"], value_vars=date_col)\n",
    "piedf.columns = [\"Team Name\", \"Date\", \"Total Steps\"]\n",
    "\n",
    "#Step 3\n",
    "piedf = piedf.groupby(\"Team Name\").sum()\n",
    "\n",
    "#Step 4\n",
    "piedf = piedf.sort_values(by=[\"Total Steps\"], ascending=[False])\n",
    "\n",
    "piedf"
   ]
  },
  {
   "cell_type": "code",
   "execution_count": null,
   "metadata": {},
   "outputs": [],
   "source": [
    "#Step 5\n",
    "piedf.plot.pie(y=\"Total Steps\", legend=False, autopct='%.2f')"
   ]
  },
  {
   "cell_type": "code",
   "execution_count": null,
   "metadata": {},
   "outputs": [],
   "source": []
  }
 ],
 "metadata": {
  "kernelspec": {
   "display_name": "Python 3",
   "language": "python",
   "name": "python3"
  },
  "language_info": {
   "codemirror_mode": {
    "name": "ipython",
    "version": 3
   },
   "file_extension": ".py",
   "mimetype": "text/x-python",
   "name": "python",
   "nbconvert_exporter": "python",
   "pygments_lexer": "ipython3",
   "version": "3.6.4"
  }
 },
 "nbformat": 4,
 "nbformat_minor": 2
}
